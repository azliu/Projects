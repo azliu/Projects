{
 "cells": [
  {
   "cell_type": "markdown",
   "metadata": {},
   "source": [
    "# Hotel Caesar "
   ]
  },
  {
   "cell_type": "markdown",
   "metadata": {},
   "source": [
    "![](https://github.com/bosea3000/Projects/raw/master/Caesars-Staffing-Problem/Images/Caesar.png)"
   ]
  },
  {
   "cell_type": "markdown",
   "metadata": {},
   "source": [
    "# Financial Data"
   ]
  },
  {
   "cell_type": "markdown",
   "metadata": {},
   "source": [
    "![](https://github.com/bosea3000/Projects/raw/master/Caesars-Staffing-Problem/Images/Financials.png)"
   ]
  },
  {
   "cell_type": "markdown",
   "metadata": {
    "collapsed": true
   },
   "source": [
    "# Workflow"
   ]
  },
  {
   "cell_type": "markdown",
   "metadata": {
    "collapsed": false
   },
   "source": [
    "![](https://github.com/bosea3000/Projects/raw/master/Caesars-Staffing-Problem/Images/FlowChart.png)"
   ]
  },
  {
   "cell_type": "markdown",
   "metadata": {},
   "source": [
    "# Pre-analysis Exploration"
   ]
  },
  {
   "cell_type": "markdown",
   "metadata": {},
   "source": [
    "## Histograms:"
   ]
  },
  {
   "cell_type": "code",
   "execution_count": 78,
   "metadata": {
    "collapsed": false
   },
   "outputs": [
    {
     "data": {
      "text/html": [
       "\n",
       "    <div class=\"bk-root\">\n",
       "        <a href=\"http://bokeh.pydata.org\" target=\"_blank\" class=\"bk-logo bk-logo-small bk-logo-notebook\"></a>\n",
       "        <span id=\"9dd67114-6759-4f5c-8d25-1c9e13a1b896\">Loading BokehJS ...</span>\n",
       "    </div>"
      ]
     },
     "metadata": {},
     "output_type": "display_data"
    },
    {
     "data": {
      "application/javascript": [
       "\n",
       "(function(global) {\n",
       "  function now() {\n",
       "    return new Date();\n",
       "  }\n",
       "\n",
       "  var force = \"1\";\n",
       "\n",
       "  if (typeof (window._bokeh_onload_callbacks) === \"undefined\" || force !== \"\") {\n",
       "    window._bokeh_onload_callbacks = [];\n",
       "    window._bokeh_is_loading = undefined;\n",
       "  }\n",
       "\n",
       "\n",
       "  \n",
       "  if (typeof (window._bokeh_timeout) === \"undefined\" || force !== \"\") {\n",
       "    window._bokeh_timeout = Date.now() + 5000;\n",
       "    window._bokeh_failed_load = false;\n",
       "  }\n",
       "\n",
       "  var NB_LOAD_WARNING = {'data': {'text/html':\n",
       "     \"<div style='background-color: #fdd'>\\n\"+\n",
       "     \"<p>\\n\"+\n",
       "     \"BokehJS does not appear to have successfully loaded. If loading BokehJS from CDN, this \\n\"+\n",
       "     \"may be due to a slow or bad network connection. Possible fixes:\\n\"+\n",
       "     \"</p>\\n\"+\n",
       "     \"<ul>\\n\"+\n",
       "     \"<li>re-rerun `output_notebook()` to attempt to load from CDN again, or</li>\\n\"+\n",
       "     \"<li>use INLINE resources instead, as so:</li>\\n\"+\n",
       "     \"</ul>\\n\"+\n",
       "     \"<code>\\n\"+\n",
       "     \"from bokeh.resources import INLINE\\n\"+\n",
       "     \"output_notebook(resources=INLINE)\\n\"+\n",
       "     \"</code>\\n\"+\n",
       "     \"</div>\"}};\n",
       "\n",
       "  function display_loaded() {\n",
       "    if (window.Bokeh !== undefined) {\n",
       "      Bokeh.$(\"#9dd67114-6759-4f5c-8d25-1c9e13a1b896\").text(\"BokehJS successfully loaded.\");\n",
       "    } else if (Date.now() < window._bokeh_timeout) {\n",
       "      setTimeout(display_loaded, 100)\n",
       "    }\n",
       "  }\n",
       "\n",
       "  function run_callbacks() {\n",
       "    window._bokeh_onload_callbacks.forEach(function(callback) { callback() });\n",
       "    delete window._bokeh_onload_callbacks\n",
       "    console.info(\"Bokeh: all callbacks have finished\");\n",
       "  }\n",
       "\n",
       "  function load_libs(js_urls, callback) {\n",
       "    window._bokeh_onload_callbacks.push(callback);\n",
       "    if (window._bokeh_is_loading > 0) {\n",
       "      console.log(\"Bokeh: BokehJS is being loaded, scheduling callback at\", now());\n",
       "      return null;\n",
       "    }\n",
       "    if (js_urls == null || js_urls.length === 0) {\n",
       "      run_callbacks();\n",
       "      return null;\n",
       "    }\n",
       "    console.log(\"Bokeh: BokehJS not loaded, scheduling load and callback at\", now());\n",
       "    window._bokeh_is_loading = js_urls.length;\n",
       "    for (var i = 0; i < js_urls.length; i++) {\n",
       "      var url = js_urls[i];\n",
       "      var s = document.createElement('script');\n",
       "      s.src = url;\n",
       "      s.async = false;\n",
       "      s.onreadystatechange = s.onload = function() {\n",
       "        window._bokeh_is_loading--;\n",
       "        if (window._bokeh_is_loading === 0) {\n",
       "          console.log(\"Bokeh: all BokehJS libraries loaded\");\n",
       "          run_callbacks()\n",
       "        }\n",
       "      };\n",
       "      s.onerror = function() {\n",
       "        console.warn(\"failed to load library \" + url);\n",
       "      };\n",
       "      console.log(\"Bokeh: injecting script tag for BokehJS library: \", url);\n",
       "      document.getElementsByTagName(\"head\")[0].appendChild(s);\n",
       "    }\n",
       "  };var element = document.getElementById(\"9dd67114-6759-4f5c-8d25-1c9e13a1b896\");\n",
       "  if (element == null) {\n",
       "    console.log(\"Bokeh: ERROR: autoload.js configured with elementid '9dd67114-6759-4f5c-8d25-1c9e13a1b896' but no matching script tag was found. \")\n",
       "    return false;\n",
       "  }\n",
       "\n",
       "  var js_urls = ['https://cdn.pydata.org/bokeh/release/bokeh-0.12.3.min.js', 'https://cdn.pydata.org/bokeh/release/bokeh-widgets-0.12.3.min.js'];\n",
       "\n",
       "  var inline_js = [\n",
       "    function(Bokeh) {\n",
       "      Bokeh.set_log_level(\"info\");\n",
       "    },\n",
       "    \n",
       "    function(Bokeh) {\n",
       "      \n",
       "      Bokeh.$(\"#9dd67114-6759-4f5c-8d25-1c9e13a1b896\").text(\"BokehJS is loading...\");\n",
       "    },\n",
       "    function(Bokeh) {\n",
       "      console.log(\"Bokeh: injecting CSS: https://cdn.pydata.org/bokeh/release/bokeh-0.12.3.min.css\");\n",
       "      Bokeh.embed.inject_css(\"https://cdn.pydata.org/bokeh/release/bokeh-0.12.3.min.css\");\n",
       "      console.log(\"Bokeh: injecting CSS: https://cdn.pydata.org/bokeh/release/bokeh-widgets-0.12.3.min.css\");\n",
       "      Bokeh.embed.inject_css(\"https://cdn.pydata.org/bokeh/release/bokeh-widgets-0.12.3.min.css\");\n",
       "    }\n",
       "  ];\n",
       "\n",
       "  function run_inline_js() {\n",
       "    \n",
       "    if ((window.Bokeh !== undefined) || (force === \"1\")) {\n",
       "      for (var i = 0; i < inline_js.length; i++) {\n",
       "        inline_js[i](window.Bokeh);\n",
       "      }if (force === \"1\") {\n",
       "        display_loaded();\n",
       "      }} else if (Date.now() < window._bokeh_timeout) {\n",
       "      setTimeout(run_inline_js, 100);\n",
       "    } else if (!window._bokeh_failed_load) {\n",
       "      console.log(\"Bokeh: BokehJS failed to load within specified timeout.\");\n",
       "      window._bokeh_failed_load = true;\n",
       "    } else if (!force) {\n",
       "      var cell = $(\"#9dd67114-6759-4f5c-8d25-1c9e13a1b896\").parents('.cell').data().cell;\n",
       "      cell.output_area.append_execute_result(NB_LOAD_WARNING)\n",
       "    }\n",
       "\n",
       "  }\n",
       "\n",
       "  if (window._bokeh_is_loading === 0) {\n",
       "    console.log(\"Bokeh: BokehJS loaded, going straight to plotting\");\n",
       "    run_inline_js();\n",
       "  } else {\n",
       "    load_libs(js_urls, function() {\n",
       "      console.log(\"Bokeh: BokehJS plotting callback run at\", now());\n",
       "      run_inline_js();\n",
       "    });\n",
       "  }\n",
       "}(this));"
      ]
     },
     "metadata": {},
     "output_type": "display_data"
    }
   ],
   "source": [
    "from bokeh.layouts import row\n",
    "from bokeh.plotting import figure, show, output_file\n",
    "from bokeh.io import push_notebook, show, output_notebook\n",
    "from bokeh.plotting import figure\n",
    "output_notebook()"
   ]
  },
  {
   "cell_type": "code",
   "execution_count": 2,
   "metadata": {
    "collapsed": false
   },
   "outputs": [],
   "source": [
    "from bokeh.charts import Histogram, output_file, show\n",
    "import pandas as pd\n",
    "\n",
    "df = pd.read_csv('Transform-Data/TrainData.csv')"
   ]
  },
  {
   "cell_type": "code",
   "execution_count": 3,
   "metadata": {
    "collapsed": false
   },
   "outputs": [
    {
     "name": "stderr",
     "output_type": "stream",
     "text": [
      "/Users/XinyiLu/anaconda/lib/python3.5/site-packages/ipykernel/__main__.py:2: FutureWarning: sort(columns=....) is deprecated, use sort_values(by=.....)\n",
      "  from ipykernel import kernelapp as app\n"
     ]
    }
   ],
   "source": [
    "from bokeh.charts import Bar, show\n",
    "df.sort('Year')\n",
    "p = Bar(df, label='Year', values='checkins', agg='sum',\n",
    "        title=\"Average checkins by Year\", legend = False, color = 'blue')\n",
    "p.background_fill_color = \"beige\"\n",
    "p.background_fill_alpha = 0.5\n",
    "p.ygrid.grid_line_alpha = 0.5\n",
    "p.outline_line_width = 7\n",
    "p.outline_line_alpha = 0.3\n",
    "p.outline_line_color = \"navy\"\n",
    "\n",
    "#output_file(\"bar.html\")\n",
    "\n",
    "show(p)"
   ]
  },
  {
   "cell_type": "code",
   "execution_count": 4,
   "metadata": {
    "collapsed": false
   },
   "outputs": [
    {
     "name": "stderr",
     "output_type": "stream",
     "text": [
      "/Users/XinyiLu/anaconda/lib/python3.5/site-packages/ipykernel/__main__.py:2: FutureWarning: sort(columns=....) is deprecated, use sort_values(by=.....)\n",
      "  from ipykernel import kernelapp as app\n"
     ]
    }
   ],
   "source": [
    "from bokeh.charts import Bar, show\n",
    "df.sort('Days')\n",
    "p = Bar(df, label='Months', values='checkins', agg='mean',\n",
    "        title=\"Average checkins by Months\", legend = False)\n",
    "p.background_fill_color = \"beige\"\n",
    "p.background_fill_alpha = 0.5\n",
    "p.ygrid.grid_line_alpha = 0.5\n",
    "p.ygrid.grid_line_dash = [6, 4]\n",
    "p.outline_line_width = 7\n",
    "p.outline_line_alpha = 0.3\n",
    "p.outline_line_color = \"navy\"\n",
    "\n",
    "#output_file(\"bar.html\")\n",
    "\n",
    "show(p)"
   ]
  },
  {
   "cell_type": "code",
   "execution_count": 82,
   "metadata": {
    "collapsed": false,
    "scrolled": true
   },
   "outputs": [
    {
     "name": "stderr",
     "output_type": "stream",
     "text": [
      "/Users/Bose/anaconda3/lib/python3.5/site-packages/ipykernel/__main__.py:1: FutureWarning: sort(columns=....) is deprecated, use sort_values(by=.....)\n",
      "  if __name__ == '__main__':\n"
     ]
    },
    {
     "data": {
      "text/html": [
       "\n",
       "\n",
       "    <div class=\"bk-root\">\n",
       "        <div class=\"plotdiv\" id=\"71b3c8b9-8d1c-4e5f-ac08-43804f726751\"></div>\n",
       "    </div>\n",
       "<script type=\"text/javascript\">\n",
       "  \n",
       "  (function(global) {\n",
       "    function now() {\n",
       "      return new Date();\n",
       "    }\n",
       "  \n",
       "    var force = \"\";\n",
       "  \n",
       "    if (typeof (window._bokeh_onload_callbacks) === \"undefined\" || force !== \"\") {\n",
       "      window._bokeh_onload_callbacks = [];\n",
       "      window._bokeh_is_loading = undefined;\n",
       "    }\n",
       "  \n",
       "  \n",
       "    \n",
       "    if (typeof (window._bokeh_timeout) === \"undefined\" || force !== \"\") {\n",
       "      window._bokeh_timeout = Date.now() + 0;\n",
       "      window._bokeh_failed_load = false;\n",
       "    }\n",
       "  \n",
       "    var NB_LOAD_WARNING = {'data': {'text/html':\n",
       "       \"<div style='background-color: #fdd'>\\n\"+\n",
       "       \"<p>\\n\"+\n",
       "       \"BokehJS does not appear to have successfully loaded. If loading BokehJS from CDN, this \\n\"+\n",
       "       \"may be due to a slow or bad network connection. Possible fixes:\\n\"+\n",
       "       \"</p>\\n\"+\n",
       "       \"<ul>\\n\"+\n",
       "       \"<li>re-rerun `output_notebook()` to attempt to load from CDN again, or</li>\\n\"+\n",
       "       \"<li>use INLINE resources instead, as so:</li>\\n\"+\n",
       "       \"</ul>\\n\"+\n",
       "       \"<code>\\n\"+\n",
       "       \"from bokeh.resources import INLINE\\n\"+\n",
       "       \"output_notebook(resources=INLINE)\\n\"+\n",
       "       \"</code>\\n\"+\n",
       "       \"</div>\"}};\n",
       "  \n",
       "    function display_loaded() {\n",
       "      if (window.Bokeh !== undefined) {\n",
       "        Bokeh.$(\"#71b3c8b9-8d1c-4e5f-ac08-43804f726751\").text(\"BokehJS successfully loaded.\");\n",
       "      } else if (Date.now() < window._bokeh_timeout) {\n",
       "        setTimeout(display_loaded, 100)\n",
       "      }\n",
       "    }\n",
       "  \n",
       "    function run_callbacks() {\n",
       "      window._bokeh_onload_callbacks.forEach(function(callback) { callback() });\n",
       "      delete window._bokeh_onload_callbacks\n",
       "      console.info(\"Bokeh: all callbacks have finished\");\n",
       "    }\n",
       "  \n",
       "    function load_libs(js_urls, callback) {\n",
       "      window._bokeh_onload_callbacks.push(callback);\n",
       "      if (window._bokeh_is_loading > 0) {\n",
       "        console.log(\"Bokeh: BokehJS is being loaded, scheduling callback at\", now());\n",
       "        return null;\n",
       "      }\n",
       "      if (js_urls == null || js_urls.length === 0) {\n",
       "        run_callbacks();\n",
       "        return null;\n",
       "      }\n",
       "      console.log(\"Bokeh: BokehJS not loaded, scheduling load and callback at\", now());\n",
       "      window._bokeh_is_loading = js_urls.length;\n",
       "      for (var i = 0; i < js_urls.length; i++) {\n",
       "        var url = js_urls[i];\n",
       "        var s = document.createElement('script');\n",
       "        s.src = url;\n",
       "        s.async = false;\n",
       "        s.onreadystatechange = s.onload = function() {\n",
       "          window._bokeh_is_loading--;\n",
       "          if (window._bokeh_is_loading === 0) {\n",
       "            console.log(\"Bokeh: all BokehJS libraries loaded\");\n",
       "            run_callbacks()\n",
       "          }\n",
       "        };\n",
       "        s.onerror = function() {\n",
       "          console.warn(\"failed to load library \" + url);\n",
       "        };\n",
       "        console.log(\"Bokeh: injecting script tag for BokehJS library: \", url);\n",
       "        document.getElementsByTagName(\"head\")[0].appendChild(s);\n",
       "      }\n",
       "    };var element = document.getElementById(\"71b3c8b9-8d1c-4e5f-ac08-43804f726751\");\n",
       "    if (element == null) {\n",
       "      console.log(\"Bokeh: ERROR: autoload.js configured with elementid '71b3c8b9-8d1c-4e5f-ac08-43804f726751' but no matching script tag was found. \")\n",
       "      return false;\n",
       "    }\n",
       "  \n",
       "    var js_urls = [];\n",
       "  \n",
       "    var inline_js = [\n",
       "      function(Bokeh) {\n",
       "        Bokeh.$(function() {\n",
       "            var docs_json = {\"12d89d16-342c-464e-810b-cdc7f20bab2f\":{\"roots\":{\"references\":[{\"attributes\":{\"data_source\":{\"id\":\"07900cea-9f78-4b3c-930c-7a9adbbde9b3\",\"type\":\"ColumnDataSource\"},\"glyph\":{\"id\":\"0cd3183a-3bdb-4546-b624-3dd5a9f9585f\",\"type\":\"Rect\"},\"hover_glyph\":null,\"nonselection_glyph\":null,\"selection_glyph\":null},\"id\":\"5a4743b3-87d4-482a-b184-641f8976808a\",\"type\":\"GlyphRenderer\"},{\"attributes\":{\"fill_alpha\":{\"field\":\"fill_alpha\"},\"fill_color\":{\"field\":\"color\"},\"height\":{\"field\":\"height\",\"units\":\"data\"},\"line_color\":{\"field\":\"line_color\"},\"width\":{\"field\":\"width\",\"units\":\"data\"},\"x\":{\"field\":\"x\"},\"y\":{\"field\":\"y\"}},\"id\":\"87e55f19-42b0-45fe-9336-7060a7d1010d\",\"type\":\"Rect\"},{\"attributes\":{\"data_source\":{\"id\":\"b57fe648-e3c7-42f2-9dd9-6f1f9d3a2c65\",\"type\":\"ColumnDataSource\"},\"glyph\":{\"id\":\"38eca7ca-bb9a-4455-b663-f90cd6930a68\",\"type\":\"Rect\"},\"hover_glyph\":null,\"nonselection_glyph\":null,\"selection_glyph\":null},\"id\":\"cb5c5bf8-b3ca-4e64-aab7-d51cf28a3b51\",\"type\":\"GlyphRenderer\"},{\"attributes\":{\"callback\":null,\"factors\":[\"FRI\",\"MON\",\"SAT\",\"SUN\",\"THU\",\"TUE\",\"WED\"]},\"id\":\"7fc0714c-8728-4d72-a25c-a398de5fb558\",\"type\":\"FactorRange\"},{\"attributes\":{\"data_source\":{\"id\":\"e38a3f00-78fa-444a-b007-66ea90245f39\",\"type\":\"ColumnDataSource\"},\"glyph\":{\"id\":\"5589160f-41b7-4e3b-8367-6f9476962657\",\"type\":\"Rect\"},\"hover_glyph\":null,\"nonselection_glyph\":null,\"selection_glyph\":null},\"id\":\"d06265a8-2cf8-4918-accc-2c88cf4de6bc\",\"type\":\"GlyphRenderer\"},{\"attributes\":{},\"id\":\"f21c1084-45c6-47b2-aab2-5758e8cdfe13\",\"type\":\"BasicTickFormatter\"},{\"attributes\":{\"fill_alpha\":{\"field\":\"fill_alpha\"},\"fill_color\":{\"field\":\"color\"},\"height\":{\"field\":\"height\",\"units\":\"data\"},\"line_color\":{\"field\":\"line_color\"},\"width\":{\"field\":\"width\",\"units\":\"data\"},\"x\":{\"field\":\"x\"},\"y\":{\"field\":\"y\"}},\"id\":\"5589160f-41b7-4e3b-8367-6f9476962657\",\"type\":\"Rect\"},{\"attributes\":{\"overlay\":{\"id\":\"d452875d-4f11-476b-ac28-9fbda2885eb6\",\"type\":\"BoxAnnotation\"},\"plot\":{\"id\":\"2c7256ca-3bf0-4ffd-a42a-7d9286effc49\",\"subtype\":\"Chart\",\"type\":\"Plot\"}},\"id\":\"3fc5b021-4439-4970-84a2-c7eea0bca08b\",\"type\":\"BoxZoomTool\"},{\"attributes\":{\"callback\":null,\"column_names\":[\"width\",\"fill_alpha\",\"height\",\"y\",\"color\",\"x\",\"label\",\"line_alpha\",\"line_color\"],\"data\":{\"Days\":[\"SAT\"],\"chart_index\":[{\"Days\":\"SAT\"}],\"color\":[\"navy\"],\"fill_alpha\":[0.8],\"height\":[910.951871657754],\"label\":[{\"Days\":\"SAT\"}],\"line_alpha\":[1.0],\"line_color\":[\"white\"],\"width\":[0.8],\"x\":[\"SAT\"],\"y\":[455.475935828877]}},\"id\":\"fe6d0fa7-7677-4809-94f8-e2fd37b582d5\",\"type\":\"ColumnDataSource\"},{\"attributes\":{\"plot\":{\"id\":\"2c7256ca-3bf0-4ffd-a42a-7d9286effc49\",\"subtype\":\"Chart\",\"type\":\"Plot\"}},\"id\":\"55d7b8be-432a-4867-b0ad-53a83e038442\",\"type\":\"WheelZoomTool\"},{\"attributes\":{\"data_source\":{\"id\":\"feeefa84-d3e6-4500-ad9d-fcca21c8d52d\",\"type\":\"ColumnDataSource\"},\"glyph\":{\"id\":\"fc0a987e-6a3b-4ee0-9c36-8e74cb0c11fe\",\"type\":\"Rect\"},\"hover_glyph\":null,\"nonselection_glyph\":null,\"selection_glyph\":null},\"id\":\"8b0df6cb-5775-47a7-b7ef-69026a60b4ee\",\"type\":\"GlyphRenderer\"},{\"attributes\":{},\"id\":\"299b99c6-d063-43b0-96d8-4915984f4d6a\",\"type\":\"CategoricalTickFormatter\"},{\"attributes\":{\"active_drag\":\"auto\",\"active_scroll\":\"auto\",\"active_tap\":\"auto\",\"tools\":[{\"id\":\"d1533a18-8e2d-4d4c-b1d1-584989ad4a67\",\"type\":\"PanTool\"},{\"id\":\"55d7b8be-432a-4867-b0ad-53a83e038442\",\"type\":\"WheelZoomTool\"},{\"id\":\"3fc5b021-4439-4970-84a2-c7eea0bca08b\",\"type\":\"BoxZoomTool\"},{\"id\":\"da8df1d5-8f91-49d2-8bf0-c644277cfb53\",\"type\":\"SaveTool\"},{\"id\":\"96736996-d211-4e31-a835-be2c870c0798\",\"type\":\"ResetTool\"},{\"id\":\"a8bfb8cb-d770-406c-b329-665abbbbd992\",\"type\":\"HelpTool\"}]},\"id\":\"a014d63e-4237-45cd-bc64-e9819808c53c\",\"type\":\"Toolbar\"},{\"attributes\":{\"background_fill_alpha\":{\"value\":0.5},\"background_fill_color\":{\"value\":\"beige\"},\"below\":[{\"id\":\"e20b5b0d-4a77-4c42-8f1e-01e2d77650a0\",\"type\":\"CategoricalAxis\"}],\"left\":[{\"id\":\"8abaf47f-0b1d-4e2f-9093-7850fe3093f6\",\"type\":\"LinearAxis\"}],\"outline_line_alpha\":{\"value\":0.3},\"outline_line_color\":{\"value\":\"navy\"},\"outline_line_width\":{\"value\":7},\"renderers\":[{\"id\":\"d452875d-4f11-476b-ac28-9fbda2885eb6\",\"type\":\"BoxAnnotation\"},{\"id\":\"8b0df6cb-5775-47a7-b7ef-69026a60b4ee\",\"type\":\"GlyphRenderer\"},{\"id\":\"30154617-140b-4d7a-b689-e4d39b572f31\",\"type\":\"GlyphRenderer\"},{\"id\":\"5a4743b3-87d4-482a-b184-641f8976808a\",\"type\":\"GlyphRenderer\"},{\"id\":\"8816efd4-2db7-44d0-9a50-3a4cb239b0c2\",\"type\":\"GlyphRenderer\"},{\"id\":\"860b00fa-b236-4b7f-9091-082286420943\",\"type\":\"GlyphRenderer\"},{\"id\":\"d06265a8-2cf8-4918-accc-2c88cf4de6bc\",\"type\":\"GlyphRenderer\"},{\"id\":\"cb5c5bf8-b3ca-4e64-aab7-d51cf28a3b51\",\"type\":\"GlyphRenderer\"},{\"id\":\"e20b5b0d-4a77-4c42-8f1e-01e2d77650a0\",\"type\":\"CategoricalAxis\"},{\"id\":\"8abaf47f-0b1d-4e2f-9093-7850fe3093f6\",\"type\":\"LinearAxis\"},{\"id\":\"04ff41d5-f3b9-4ea2-982b-43b8fdda6351\",\"type\":\"Grid\"}],\"title\":{\"id\":\"082d823f-59b3-4641-a861-67c5227cb505\",\"type\":\"Title\"},\"tool_events\":{\"id\":\"d91d4181-e3f2-4bd6-a0f4-c0d3544d1019\",\"type\":\"ToolEvents\"},\"toolbar\":{\"id\":\"a014d63e-4237-45cd-bc64-e9819808c53c\",\"type\":\"Toolbar\"},\"x_mapper_type\":\"auto\",\"x_range\":{\"id\":\"7fc0714c-8728-4d72-a25c-a398de5fb558\",\"type\":\"FactorRange\"},\"y_mapper_type\":\"auto\",\"y_range\":{\"id\":\"fb4b1960-69ed-4dd8-984d-c70ebdbe0762\",\"type\":\"Range1d\"}},\"id\":\"2c7256ca-3bf0-4ffd-a42a-7d9286effc49\",\"subtype\":\"Chart\",\"type\":\"Plot\"},{\"attributes\":{\"plot\":{\"id\":\"2c7256ca-3bf0-4ffd-a42a-7d9286effc49\",\"subtype\":\"Chart\",\"type\":\"Plot\"}},\"id\":\"96736996-d211-4e31-a835-be2c870c0798\",\"type\":\"ResetTool\"},{\"attributes\":{\"axis_label\":\"Mean( Checkins )\",\"formatter\":{\"id\":\"f21c1084-45c6-47b2-aab2-5758e8cdfe13\",\"type\":\"BasicTickFormatter\"},\"plot\":{\"id\":\"2c7256ca-3bf0-4ffd-a42a-7d9286effc49\",\"subtype\":\"Chart\",\"type\":\"Plot\"},\"ticker\":{\"id\":\"428d6810-5ec7-4227-8644-61234eeef367\",\"type\":\"BasicTicker\"}},\"id\":\"8abaf47f-0b1d-4e2f-9093-7850fe3093f6\",\"type\":\"LinearAxis\"},{\"attributes\":{\"data_source\":{\"id\":\"2c5f4cc6-4693-41b4-a9d1-1cdfa6c5008d\",\"type\":\"ColumnDataSource\"},\"glyph\":{\"id\":\"2fea666e-c49f-45a2-b820-32f8b5015266\",\"type\":\"Rect\"},\"hover_glyph\":null,\"nonselection_glyph\":null,\"selection_glyph\":null},\"id\":\"8816efd4-2db7-44d0-9a50-3a4cb239b0c2\",\"type\":\"GlyphRenderer\"},{\"attributes\":{\"callback\":null,\"column_names\":[\"width\",\"fill_alpha\",\"height\",\"y\",\"color\",\"x\",\"label\",\"line_alpha\",\"line_color\"],\"data\":{\"Days\":[\"MON\"],\"chart_index\":[{\"Days\":\"MON\"}],\"color\":[\"navy\"],\"fill_alpha\":[0.8],\"height\":[1175.673796791444],\"label\":[{\"Days\":\"MON\"}],\"line_alpha\":[1.0],\"line_color\":[\"white\"],\"width\":[0.8],\"x\":[\"MON\"],\"y\":[587.836898395722]}},\"id\":\"2c5f4cc6-4693-41b4-a9d1-1cdfa6c5008d\",\"type\":\"ColumnDataSource\"},{\"attributes\":{\"data_source\":{\"id\":\"fe6d0fa7-7677-4809-94f8-e2fd37b582d5\",\"type\":\"ColumnDataSource\"},\"glyph\":{\"id\":\"87e55f19-42b0-45fe-9336-7060a7d1010d\",\"type\":\"Rect\"},\"hover_glyph\":null,\"nonselection_glyph\":null,\"selection_glyph\":null},\"id\":\"30154617-140b-4d7a-b689-e4d39b572f31\",\"type\":\"GlyphRenderer\"},{\"attributes\":{\"plot\":{\"id\":\"2c7256ca-3bf0-4ffd-a42a-7d9286effc49\",\"subtype\":\"Chart\",\"type\":\"Plot\"}},\"id\":\"a8bfb8cb-d770-406c-b329-665abbbbd992\",\"type\":\"HelpTool\"},{\"attributes\":{\"callback\":null,\"column_names\":[\"width\",\"fill_alpha\",\"height\",\"y\",\"color\",\"x\",\"label\",\"line_alpha\",\"line_color\"],\"data\":{\"Days\":[\"WED\"],\"chart_index\":[{\"Days\":\"WED\"}],\"color\":[\"navy\"],\"fill_alpha\":[0.8],\"height\":[1004.3101604278074],\"label\":[{\"Days\":\"WED\"}],\"line_alpha\":[1.0],\"line_color\":[\"white\"],\"width\":[0.8],\"x\":[\"WED\"],\"y\":[502.1550802139037]}},\"id\":\"e38a3f00-78fa-444a-b007-66ea90245f39\",\"type\":\"ColumnDataSource\"},{\"attributes\":{\"bottom_units\":\"screen\",\"fill_alpha\":{\"value\":0.5},\"fill_color\":{\"value\":\"lightgrey\"},\"left_units\":\"screen\",\"level\":\"overlay\",\"line_alpha\":{\"value\":1.0},\"line_color\":{\"value\":\"black\"},\"line_dash\":[4,4],\"line_width\":{\"value\":2},\"plot\":null,\"render_mode\":\"css\",\"right_units\":\"screen\",\"top_units\":\"screen\"},\"id\":\"d452875d-4f11-476b-ac28-9fbda2885eb6\",\"type\":\"BoxAnnotation\"},{\"attributes\":{\"fill_alpha\":{\"field\":\"fill_alpha\"},\"fill_color\":{\"field\":\"color\"},\"height\":{\"field\":\"height\",\"units\":\"data\"},\"line_color\":{\"field\":\"line_color\"},\"width\":{\"field\":\"width\",\"units\":\"data\"},\"x\":{\"field\":\"x\"},\"y\":{\"field\":\"y\"}},\"id\":\"2fea666e-c49f-45a2-b820-32f8b5015266\",\"type\":\"Rect\"},{\"attributes\":{\"fill_alpha\":{\"field\":\"fill_alpha\"},\"fill_color\":{\"field\":\"color\"},\"height\":{\"field\":\"height\",\"units\":\"data\"},\"line_color\":{\"field\":\"line_color\"},\"width\":{\"field\":\"width\",\"units\":\"data\"},\"x\":{\"field\":\"x\"},\"y\":{\"field\":\"y\"}},\"id\":\"fc0a987e-6a3b-4ee0-9c36-8e74cb0c11fe\",\"type\":\"Rect\"},{\"attributes\":{\"callback\":null,\"column_names\":[\"width\",\"fill_alpha\",\"height\",\"y\",\"color\",\"x\",\"label\",\"line_alpha\",\"line_color\"],\"data\":{\"Days\":[\"THU\"],\"chart_index\":[{\"Days\":\"THU\"}],\"color\":[\"navy\"],\"fill_alpha\":[0.8],\"height\":[1127.0053475935829],\"label\":[{\"Days\":\"THU\"}],\"line_alpha\":[1.0],\"line_color\":[\"white\"],\"width\":[0.8],\"x\":[\"THU\"],\"y\":[563.5026737967914]}},\"id\":\"b57fe648-e3c7-42f2-9dd9-6f1f9d3a2c65\",\"type\":\"ColumnDataSource\"},{\"attributes\":{\"dimension\":1,\"grid_line_alpha\":{\"value\":0.5},\"plot\":{\"id\":\"2c7256ca-3bf0-4ffd-a42a-7d9286effc49\",\"subtype\":\"Chart\",\"type\":\"Plot\"},\"ticker\":{\"id\":\"428d6810-5ec7-4227-8644-61234eeef367\",\"type\":\"BasicTicker\"}},\"id\":\"04ff41d5-f3b9-4ea2-982b-43b8fdda6351\",\"type\":\"Grid\"},{\"attributes\":{\"plot\":{\"id\":\"2c7256ca-3bf0-4ffd-a42a-7d9286effc49\",\"subtype\":\"Chart\",\"type\":\"Plot\"}},\"id\":\"d1533a18-8e2d-4d4c-b1d1-584989ad4a67\",\"type\":\"PanTool\"},{\"attributes\":{\"callback\":null,\"column_names\":[\"width\",\"fill_alpha\",\"height\",\"y\",\"color\",\"x\",\"label\",\"line_alpha\",\"line_color\"],\"data\":{\"Days\":[\"SUN\"],\"chart_index\":[{\"Days\":\"SUN\"}],\"color\":[\"navy\"],\"fill_alpha\":[0.8],\"height\":[1397.5882352941176],\"label\":[{\"Days\":\"SUN\"}],\"line_alpha\":[1.0],\"line_color\":[\"white\"],\"width\":[0.8],\"x\":[\"SUN\"],\"y\":[698.7941176470588]}},\"id\":\"07900cea-9f78-4b3c-930c-7a9adbbde9b3\",\"type\":\"ColumnDataSource\"},{\"attributes\":{\"plot\":null,\"text\":\"Average checkins by Days\"},\"id\":\"082d823f-59b3-4641-a861-67c5227cb505\",\"type\":\"Title\"},{\"attributes\":{},\"id\":\"d91d4181-e3f2-4bd6-a0f4-c0d3544d1019\",\"type\":\"ToolEvents\"},{\"attributes\":{\"callback\":null,\"column_names\":[\"width\",\"fill_alpha\",\"height\",\"y\",\"color\",\"x\",\"label\",\"line_alpha\",\"line_color\"],\"data\":{\"Days\":[\"FRI\"],\"chart_index\":[{\"Days\":\"FRI\"}],\"color\":[\"navy\"],\"fill_alpha\":[0.8],\"height\":[1514.1069518716577],\"label\":[{\"Days\":\"FRI\"}],\"line_alpha\":[1.0],\"line_color\":[\"white\"],\"width\":[0.8],\"x\":[\"FRI\"],\"y\":[757.0534759358288]}},\"id\":\"feeefa84-d3e6-4500-ad9d-fcca21c8d52d\",\"type\":\"ColumnDataSource\"},{\"attributes\":{\"fill_alpha\":{\"field\":\"fill_alpha\"},\"fill_color\":{\"field\":\"color\"},\"height\":{\"field\":\"height\",\"units\":\"data\"},\"line_color\":{\"field\":\"line_color\"},\"width\":{\"field\":\"width\",\"units\":\"data\"},\"x\":{\"field\":\"x\"},\"y\":{\"field\":\"y\"}},\"id\":\"0cd3183a-3bdb-4546-b624-3dd5a9f9585f\",\"type\":\"Rect\"},{\"attributes\":{\"fill_alpha\":{\"field\":\"fill_alpha\"},\"fill_color\":{\"field\":\"color\"},\"height\":{\"field\":\"height\",\"units\":\"data\"},\"line_color\":{\"field\":\"line_color\"},\"width\":{\"field\":\"width\",\"units\":\"data\"},\"x\":{\"field\":\"x\"},\"y\":{\"field\":\"y\"}},\"id\":\"8fbd2e11-58a0-4541-bb2a-6db333bfaf5b\",\"type\":\"Rect\"},{\"attributes\":{},\"id\":\"3a38bd50-57dd-4614-ba50-c4b359567080\",\"type\":\"CategoricalTicker\"},{\"attributes\":{\"plot\":{\"id\":\"2c7256ca-3bf0-4ffd-a42a-7d9286effc49\",\"subtype\":\"Chart\",\"type\":\"Plot\"}},\"id\":\"da8df1d5-8f91-49d2-8bf0-c644277cfb53\",\"type\":\"SaveTool\"},{\"attributes\":{},\"id\":\"428d6810-5ec7-4227-8644-61234eeef367\",\"type\":\"BasicTicker\"},{\"attributes\":{\"fill_alpha\":{\"field\":\"fill_alpha\"},\"fill_color\":{\"field\":\"color\"},\"height\":{\"field\":\"height\",\"units\":\"data\"},\"line_color\":{\"field\":\"line_color\"},\"width\":{\"field\":\"width\",\"units\":\"data\"},\"x\":{\"field\":\"x\"},\"y\":{\"field\":\"y\"}},\"id\":\"38eca7ca-bb9a-4455-b663-f90cd6930a68\",\"type\":\"Rect\"},{\"attributes\":{\"axis_label\":\"Days\",\"formatter\":{\"id\":\"299b99c6-d063-43b0-96d8-4915984f4d6a\",\"type\":\"CategoricalTickFormatter\"},\"major_label_orientation\":0.7853981633974483,\"plot\":{\"id\":\"2c7256ca-3bf0-4ffd-a42a-7d9286effc49\",\"subtype\":\"Chart\",\"type\":\"Plot\"},\"ticker\":{\"id\":\"3a38bd50-57dd-4614-ba50-c4b359567080\",\"type\":\"CategoricalTicker\"}},\"id\":\"e20b5b0d-4a77-4c42-8f1e-01e2d77650a0\",\"type\":\"CategoricalAxis\"},{\"attributes\":{\"callback\":null,\"column_names\":[\"width\",\"fill_alpha\",\"height\",\"y\",\"color\",\"x\",\"label\",\"line_alpha\",\"line_color\"],\"data\":{\"Days\":[\"TUE\"],\"chart_index\":[{\"Days\":\"TUE\"}],\"color\":[\"navy\"],\"fill_alpha\":[0.8],\"height\":[949.2566844919786],\"label\":[{\"Days\":\"TUE\"}],\"line_alpha\":[1.0],\"line_color\":[\"white\"],\"width\":[0.8],\"x\":[\"TUE\"],\"y\":[474.6283422459893]}},\"id\":\"e1f8aa67-11cf-4f21-80c7-8243fd2525b3\",\"type\":\"ColumnDataSource\"},{\"attributes\":{\"data_source\":{\"id\":\"e1f8aa67-11cf-4f21-80c7-8243fd2525b3\",\"type\":\"ColumnDataSource\"},\"glyph\":{\"id\":\"8fbd2e11-58a0-4541-bb2a-6db333bfaf5b\",\"type\":\"Rect\"},\"hover_glyph\":null,\"nonselection_glyph\":null,\"selection_glyph\":null},\"id\":\"860b00fa-b236-4b7f-9091-082286420943\",\"type\":\"GlyphRenderer\"},{\"attributes\":{\"callback\":null,\"end\":1589.8122994652406},\"id\":\"fb4b1960-69ed-4dd8-984d-c70ebdbe0762\",\"type\":\"Range1d\"}],\"root_ids\":[\"2c7256ca-3bf0-4ffd-a42a-7d9286effc49\"]},\"title\":\"Bokeh Application\",\"version\":\"0.12.3\"}};\n",
       "            var render_items = [{\"docid\":\"12d89d16-342c-464e-810b-cdc7f20bab2f\",\"elementid\":\"71b3c8b9-8d1c-4e5f-ac08-43804f726751\",\"modelid\":\"2c7256ca-3bf0-4ffd-a42a-7d9286effc49\"}];\n",
       "            \n",
       "            Bokeh.embed.embed_items(docs_json, render_items);\n",
       "        });\n",
       "      },\n",
       "      function(Bokeh) {\n",
       "      }\n",
       "    ];\n",
       "  \n",
       "    function run_inline_js() {\n",
       "      \n",
       "      if ((window.Bokeh !== undefined) || (force === \"1\")) {\n",
       "        for (var i = 0; i < inline_js.length; i++) {\n",
       "          inline_js[i](window.Bokeh);\n",
       "        }if (force === \"1\") {\n",
       "          display_loaded();\n",
       "        }} else if (Date.now() < window._bokeh_timeout) {\n",
       "        setTimeout(run_inline_js, 100);\n",
       "      } else if (!window._bokeh_failed_load) {\n",
       "        console.log(\"Bokeh: BokehJS failed to load within specified timeout.\");\n",
       "        window._bokeh_failed_load = true;\n",
       "      } else if (!force) {\n",
       "        var cell = $(\"#71b3c8b9-8d1c-4e5f-ac08-43804f726751\").parents('.cell').data().cell;\n",
       "        cell.output_area.append_execute_result(NB_LOAD_WARNING)\n",
       "      }\n",
       "  \n",
       "    }\n",
       "  \n",
       "    if (window._bokeh_is_loading === 0) {\n",
       "      console.log(\"Bokeh: BokehJS loaded, going straight to plotting\");\n",
       "      run_inline_js();\n",
       "    } else {\n",
       "      load_libs(js_urls, function() {\n",
       "        console.log(\"Bokeh: BokehJS plotting callback run at\", now());\n",
       "        run_inline_js();\n",
       "      });\n",
       "    }\n",
       "  }(this));\n",
       "</script>"
      ]
     },
     "metadata": {},
     "output_type": "display_data"
    }
   ],
   "source": [
    "df.sort('Days')\n",
    "from bokeh.plotting import figure\n",
    "\n",
    "p = Bar(df, label='Days', values='checkins', agg='mean',\n",
    "        title=\"Average checkins by Days\", legend= False, color = 'navy')\n",
    "p.outline_line_width = 7\n",
    "p.outline_line_alpha = 0.3\n",
    "p.outline_line_color = \"navy\"\n",
    "p.background_fill_color = \"beige\"\n",
    "p.background_fill_alpha = 0.5\n",
    "p.ygrid.grid_line_alpha = 0.5\n",
    "\n",
    "#output_file(\"bar.html\")\n",
    "\n",
    "show(p)"
   ]
  },
  {
   "cell_type": "code",
   "execution_count": 83,
   "metadata": {
    "collapsed": false
   },
   "outputs": [
    {
     "name": "stderr",
     "output_type": "stream",
     "text": [
      "/Users/Bose/anaconda3/lib/python3.5/site-packages/ipykernel/__main__.py:1: FutureWarning: sort(columns=....) is deprecated, use sort_values(by=.....)\n",
      "  if __name__ == '__main__':\n"
     ]
    },
    {
     "data": {
      "text/html": [
       "\n",
       "\n",
       "    <div class=\"bk-root\">\n",
       "        <div class=\"plotdiv\" id=\"71e4e882-8183-4db8-bd99-aa5997b24b59\"></div>\n",
       "    </div>\n",
       "<script type=\"text/javascript\">\n",
       "  \n",
       "  (function(global) {\n",
       "    function now() {\n",
       "      return new Date();\n",
       "    }\n",
       "  \n",
       "    var force = \"\";\n",
       "  \n",
       "    if (typeof (window._bokeh_onload_callbacks) === \"undefined\" || force !== \"\") {\n",
       "      window._bokeh_onload_callbacks = [];\n",
       "      window._bokeh_is_loading = undefined;\n",
       "    }\n",
       "  \n",
       "  \n",
       "    \n",
       "    if (typeof (window._bokeh_timeout) === \"undefined\" || force !== \"\") {\n",
       "      window._bokeh_timeout = Date.now() + 0;\n",
       "      window._bokeh_failed_load = false;\n",
       "    }\n",
       "  \n",
       "    var NB_LOAD_WARNING = {'data': {'text/html':\n",
       "       \"<div style='background-color: #fdd'>\\n\"+\n",
       "       \"<p>\\n\"+\n",
       "       \"BokehJS does not appear to have successfully loaded. If loading BokehJS from CDN, this \\n\"+\n",
       "       \"may be due to a slow or bad network connection. Possible fixes:\\n\"+\n",
       "       \"</p>\\n\"+\n",
       "       \"<ul>\\n\"+\n",
       "       \"<li>re-rerun `output_notebook()` to attempt to load from CDN again, or</li>\\n\"+\n",
       "       \"<li>use INLINE resources instead, as so:</li>\\n\"+\n",
       "       \"</ul>\\n\"+\n",
       "       \"<code>\\n\"+\n",
       "       \"from bokeh.resources import INLINE\\n\"+\n",
       "       \"output_notebook(resources=INLINE)\\n\"+\n",
       "       \"</code>\\n\"+\n",
       "       \"</div>\"}};\n",
       "  \n",
       "    function display_loaded() {\n",
       "      if (window.Bokeh !== undefined) {\n",
       "        Bokeh.$(\"#71e4e882-8183-4db8-bd99-aa5997b24b59\").text(\"BokehJS successfully loaded.\");\n",
       "      } else if (Date.now() < window._bokeh_timeout) {\n",
       "        setTimeout(display_loaded, 100)\n",
       "      }\n",
       "    }\n",
       "  \n",
       "    function run_callbacks() {\n",
       "      window._bokeh_onload_callbacks.forEach(function(callback) { callback() });\n",
       "      delete window._bokeh_onload_callbacks\n",
       "      console.info(\"Bokeh: all callbacks have finished\");\n",
       "    }\n",
       "  \n",
       "    function load_libs(js_urls, callback) {\n",
       "      window._bokeh_onload_callbacks.push(callback);\n",
       "      if (window._bokeh_is_loading > 0) {\n",
       "        console.log(\"Bokeh: BokehJS is being loaded, scheduling callback at\", now());\n",
       "        return null;\n",
       "      }\n",
       "      if (js_urls == null || js_urls.length === 0) {\n",
       "        run_callbacks();\n",
       "        return null;\n",
       "      }\n",
       "      console.log(\"Bokeh: BokehJS not loaded, scheduling load and callback at\", now());\n",
       "      window._bokeh_is_loading = js_urls.length;\n",
       "      for (var i = 0; i < js_urls.length; i++) {\n",
       "        var url = js_urls[i];\n",
       "        var s = document.createElement('script');\n",
       "        s.src = url;\n",
       "        s.async = false;\n",
       "        s.onreadystatechange = s.onload = function() {\n",
       "          window._bokeh_is_loading--;\n",
       "          if (window._bokeh_is_loading === 0) {\n",
       "            console.log(\"Bokeh: all BokehJS libraries loaded\");\n",
       "            run_callbacks()\n",
       "          }\n",
       "        };\n",
       "        s.onerror = function() {\n",
       "          console.warn(\"failed to load library \" + url);\n",
       "        };\n",
       "        console.log(\"Bokeh: injecting script tag for BokehJS library: \", url);\n",
       "        document.getElementsByTagName(\"head\")[0].appendChild(s);\n",
       "      }\n",
       "    };var element = document.getElementById(\"71e4e882-8183-4db8-bd99-aa5997b24b59\");\n",
       "    if (element == null) {\n",
       "      console.log(\"Bokeh: ERROR: autoload.js configured with elementid '71e4e882-8183-4db8-bd99-aa5997b24b59' but no matching script tag was found. \")\n",
       "      return false;\n",
       "    }\n",
       "  \n",
       "    var js_urls = [];\n",
       "  \n",
       "    var inline_js = [\n",
       "      function(Bokeh) {\n",
       "        Bokeh.$(function() {\n",
       "            var docs_json = {\"d8d7b3ff-2a60-43b9-97f4-a6f7673d9b2f\":{\"roots\":{\"references\":[{\"attributes\":{\"data_source\":{\"id\":\"e4fe40ee-1b57-4d4d-8165-d1ebbc74d468\",\"type\":\"ColumnDataSource\"},\"glyph\":{\"id\":\"b5222794-b64f-4d12-a402-ca80ff3a3eb8\",\"type\":\"Rect\"},\"hover_glyph\":null,\"nonselection_glyph\":null,\"selection_glyph\":null},\"id\":\"9c29c198-8e06-47c4-bb24-cf6b71bed1f0\",\"type\":\"GlyphRenderer\"},{\"attributes\":{\"fill_alpha\":{\"field\":\"fill_alpha\"},\"fill_color\":{\"field\":\"color\"},\"height\":{\"field\":\"height\",\"units\":\"data\"},\"line_color\":{\"field\":\"line_color\"},\"width\":{\"field\":\"width\",\"units\":\"data\"},\"x\":{\"field\":\"x\"},\"y\":{\"field\":\"y\"}},\"id\":\"d4f2f89a-615b-468a-bf7c-994e6b81a396\",\"type\":\"Rect\"},{\"attributes\":{\"data_source\":{\"id\":\"6b12acff-9d24-4273-8ffb-99cf314f42cc\",\"type\":\"ColumnDataSource\"},\"glyph\":{\"id\":\"98055323-5619-46ea-bbfc-04f96788e3f2\",\"type\":\"Rect\"},\"hover_glyph\":null,\"nonselection_glyph\":null,\"selection_glyph\":null},\"id\":\"5eadac0f-f940-4202-a8f9-93b10a7a53de\",\"type\":\"GlyphRenderer\"},{\"attributes\":{\"data_source\":{\"id\":\"4a67c472-46f6-4978-a6d5-41203014b15d\",\"type\":\"ColumnDataSource\"},\"glyph\":{\"id\":\"e10f6ea8-9672-43d2-a473-0367c9634fdd\",\"type\":\"Rect\"},\"hover_glyph\":null,\"nonselection_glyph\":null,\"selection_glyph\":null},\"id\":\"59a0f2f6-6897-4593-b516-5d5e209f3a59\",\"type\":\"GlyphRenderer\"},{\"attributes\":{\"overlay\":{\"id\":\"90172d32-102b-46e5-9838-37b4e8c1bd12\",\"type\":\"BoxAnnotation\"},\"plot\":{\"id\":\"d83f7e99-9fc6-4765-acdc-d51d8f21988a\",\"subtype\":\"Chart\",\"type\":\"Plot\"}},\"id\":\"95015a5a-e400-4b50-9221-1915fb932537\",\"type\":\"BoxZoomTool\"},{\"attributes\":{\"callback\":null,\"column_names\":[\"width\",\"fill_alpha\",\"height\",\"y\",\"color\",\"x\",\"label\",\"line_alpha\",\"line_color\"],\"data\":{\"Holidays\":[\"Jewish-Holiday\"],\"chart_index\":[{\"Holidays\":\"Jewish-Holiday\"}],\"color\":[\"#f22c40\"],\"fill_alpha\":[0.8],\"height\":[69276.0],\"label\":[{\"Holidays\":\"Jewish-Holiday\"}],\"line_alpha\":[1.0],\"line_color\":[\"white\"],\"width\":[0.8],\"x\":[\"Jewish-Holiday\"],\"y\":[34638.0]}},\"id\":\"51b70f11-eea0-4a96-ab65-a52dba6f7ebe\",\"type\":\"ColumnDataSource\"},{\"attributes\":{\"data_source\":{\"id\":\"45764c14-d720-446e-9e57-a9650b8e14bf\",\"type\":\"ColumnDataSource\"},\"glyph\":{\"id\":\"d4f2f89a-615b-468a-bf7c-994e6b81a396\",\"type\":\"Rect\"},\"hover_glyph\":null,\"nonselection_glyph\":null,\"selection_glyph\":null},\"id\":\"8f3bdf56-14b6-4aa3-aa27-7e337b509eb9\",\"type\":\"GlyphRenderer\"},{\"attributes\":{\"plot\":{\"id\":\"d83f7e99-9fc6-4765-acdc-d51d8f21988a\",\"subtype\":\"Chart\",\"type\":\"Plot\"}},\"id\":\"5cccde18-3269-426b-9595-e7e3701e99f4\",\"type\":\"PanTool\"},{\"attributes\":{\"fill_alpha\":{\"field\":\"fill_alpha\"},\"fill_color\":{\"field\":\"color\"},\"height\":{\"field\":\"height\",\"units\":\"data\"},\"line_color\":{\"field\":\"line_color\"},\"width\":{\"field\":\"width\",\"units\":\"data\"},\"x\":{\"field\":\"x\"},\"y\":{\"field\":\"y\"}},\"id\":\"daba7f62-e13f-4b3f-8949-99c7c1519e0c\",\"type\":\"Rect\"},{\"attributes\":{\"dimension\":1,\"grid_line_alpha\":{\"value\":0.5},\"plot\":{\"id\":\"d83f7e99-9fc6-4765-acdc-d51d8f21988a\",\"subtype\":\"Chart\",\"type\":\"Plot\"},\"ticker\":{\"id\":\"24ed2a87-87f9-4de5-a6f6-c43b156303ae\",\"type\":\"BasicTicker\"}},\"id\":\"570a7fe6-9e85-4869-8389-81349c0518f1\",\"type\":\"Grid\"},{\"attributes\":{},\"id\":\"f8615f22-ec04-4cc7-acb4-ee086e8bb14a\",\"type\":\"CategoricalTicker\"},{\"attributes\":{\"plot\":{\"id\":\"d83f7e99-9fc6-4765-acdc-d51d8f21988a\",\"subtype\":\"Chart\",\"type\":\"Plot\"}},\"id\":\"3da4c63d-daf8-49b6-a16f-d16ceee80288\",\"type\":\"ResetTool\"},{\"attributes\":{\"data_source\":{\"id\":\"a661c3b6-ff1c-43c3-a54a-ea21562f509c\",\"type\":\"ColumnDataSource\"},\"glyph\":{\"id\":\"9b5915d4-07c5-4e95-a1d8-2df42ac67b02\",\"type\":\"Rect\"},\"hover_glyph\":null,\"nonselection_glyph\":null,\"selection_glyph\":null},\"id\":\"2a468b29-aa49-49c1-9955-3ac22e3d3b0d\",\"type\":\"GlyphRenderer\"},{\"attributes\":{\"callback\":null,\"column_names\":[\"width\",\"fill_alpha\",\"height\",\"y\",\"color\",\"x\",\"label\",\"line_alpha\",\"line_color\"],\"data\":{\"Holidays\":[\"ThxGiving\"],\"chart_index\":[{\"Holidays\":\"ThxGiving\"}],\"color\":[\"#f22c40\"],\"fill_alpha\":[0.8],\"height\":[3901.0],\"label\":[{\"Holidays\":\"ThxGiving\"}],\"line_alpha\":[1.0],\"line_color\":[\"white\"],\"width\":[0.8],\"x\":[\"ThxGiving\"],\"y\":[1950.5]}},\"id\":\"6d18bdda-5988-4ad3-84ea-42815a50b9e4\",\"type\":\"ColumnDataSource\"},{\"attributes\":{},\"id\":\"30d47513-b97b-482b-92ef-02c006ef2f28\",\"type\":\"CategoricalTickFormatter\"},{\"attributes\":{\"callback\":null,\"end\":1215243.75},\"id\":\"7d850fbc-d971-43b5-8cb1-1ad490a1f401\",\"type\":\"Range1d\"},{\"attributes\":{\"callback\":null,\"column_names\":[\"width\",\"fill_alpha\",\"height\",\"y\",\"color\",\"x\",\"label\",\"line_alpha\",\"line_color\"],\"data\":{\"Holidays\":[\"VeteransDay\"],\"chart_index\":[{\"Holidays\":\"VeteransDay\"}],\"color\":[\"#f22c40\"],\"fill_alpha\":[0.8],\"height\":[4253.0],\"label\":[{\"Holidays\":\"VeteransDay\"}],\"line_alpha\":[1.0],\"line_color\":[\"white\"],\"width\":[0.8],\"x\":[\"VeteransDay\"],\"y\":[2126.5]}},\"id\":\"8d2b8430-2ef2-4d85-978c-4cebb4c2b327\",\"type\":\"ColumnDataSource\"},{\"attributes\":{\"fill_alpha\":{\"field\":\"fill_alpha\"},\"fill_color\":{\"field\":\"color\"},\"height\":{\"field\":\"height\",\"units\":\"data\"},\"line_color\":{\"field\":\"line_color\"},\"width\":{\"field\":\"width\",\"units\":\"data\"},\"x\":{\"field\":\"x\"},\"y\":{\"field\":\"y\"}},\"id\":\"8e7b2a1e-6e6d-4ca5-96a5-8539e8fe35b5\",\"type\":\"Rect\"},{\"attributes\":{\"fill_alpha\":{\"field\":\"fill_alpha\"},\"fill_color\":{\"field\":\"color\"},\"height\":{\"field\":\"height\",\"units\":\"data\"},\"line_color\":{\"field\":\"line_color\"},\"width\":{\"field\":\"width\",\"units\":\"data\"},\"x\":{\"field\":\"x\"},\"y\":{\"field\":\"y\"}},\"id\":\"55ab54b2-b8af-43fe-b726-63d39dd55a81\",\"type\":\"Rect\"},{\"attributes\":{\"plot\":{\"id\":\"d83f7e99-9fc6-4765-acdc-d51d8f21988a\",\"subtype\":\"Chart\",\"type\":\"Plot\"}},\"id\":\"83157aea-8d3b-4a7b-9992-ec5efd36764b\",\"type\":\"WheelZoomTool\"},{\"attributes\":{\"data_source\":{\"id\":\"d9e4d135-7d57-4d18-aee5-c9c94469b65a\",\"type\":\"ColumnDataSource\"},\"glyph\":{\"id\":\"83e75bd2-e6c6-4114-ade1-06cd9887c8e8\",\"type\":\"Rect\"},\"hover_glyph\":null,\"nonselection_glyph\":null,\"selection_glyph\":null},\"id\":\"1c5b2162-0ed6-4843-8a88-6fff59d0a48f\",\"type\":\"GlyphRenderer\"},{\"attributes\":{\"plot\":{\"id\":\"d83f7e99-9fc6-4765-acdc-d51d8f21988a\",\"subtype\":\"Chart\",\"type\":\"Plot\"}},\"id\":\"89c55d1e-3a44-49fe-be90-c72446f896ab\",\"type\":\"HelpTool\"},{\"attributes\":{\"axis_label\":\"Sum( Checkins )\",\"formatter\":{\"id\":\"87006131-98fa-41f0-b081-d782b15ba27e\",\"type\":\"BasicTickFormatter\"},\"plot\":{\"id\":\"d83f7e99-9fc6-4765-acdc-d51d8f21988a\",\"subtype\":\"Chart\",\"type\":\"Plot\"},\"ticker\":{\"id\":\"24ed2a87-87f9-4de5-a6f6-c43b156303ae\",\"type\":\"BasicTicker\"}},\"id\":\"3d066238-bfb5-4a13-af8c-8fe176739222\",\"type\":\"LinearAxis\"},{\"attributes\":{\"data_source\":{\"id\":\"fdab57b0-f881-41a1-bf19-fcdda13cd3b3\",\"type\":\"ColumnDataSource\"},\"glyph\":{\"id\":\"fcbf7533-46b0-4c6d-9a8e-177557f993cd\",\"type\":\"Rect\"},\"hover_glyph\":null,\"nonselection_glyph\":null,\"selection_glyph\":null},\"id\":\"5e913f87-cded-4616-9138-006cb74d0dc8\",\"type\":\"GlyphRenderer\"},{\"attributes\":{\"callback\":null,\"column_names\":[\"width\",\"fill_alpha\",\"height\",\"y\",\"color\",\"x\",\"label\",\"line_alpha\",\"line_color\"],\"data\":{\"Holidays\":[\"LongWknd\"],\"chart_index\":[{\"Holidays\":\"LongWknd\"}],\"color\":[\"#f22c40\"],\"fill_alpha\":[0.8],\"height\":[65308.0],\"label\":[{\"Holidays\":\"LongWknd\"}],\"line_alpha\":[1.0],\"line_color\":[\"white\"],\"width\":[0.8],\"x\":[\"LongWknd\"],\"y\":[32654.0]}},\"id\":\"6b12acff-9d24-4273-8ffb-99cf314f42cc\",\"type\":\"ColumnDataSource\"},{\"attributes\":{\"callback\":null,\"column_names\":[\"width\",\"fill_alpha\",\"height\",\"y\",\"color\",\"x\",\"label\",\"line_alpha\",\"line_color\"],\"data\":{\"Holidays\":[\"Easter\"],\"chart_index\":[{\"Holidays\":\"Easter\"}],\"color\":[\"#f22c40\"],\"fill_alpha\":[0.8],\"height\":[1238.0],\"label\":[{\"Holidays\":\"Easter\"}],\"line_alpha\":[1.0],\"line_color\":[\"white\"],\"width\":[0.8],\"x\":[\"Easter\"],\"y\":[619.0]}},\"id\":\"0f0560f8-0ad2-483e-b630-6ca25ef1762f\",\"type\":\"ColumnDataSource\"},{\"attributes\":{},\"id\":\"24ed2a87-87f9-4de5-a6f6-c43b156303ae\",\"type\":\"BasicTicker\"},{\"attributes\":{\"plot\":null,\"text\":\"Total checkins by Holidays\"},\"id\":\"b6220250-facd-4ac1-9182-746815305857\",\"type\":\"Title\"},{\"attributes\":{\"fill_alpha\":{\"field\":\"fill_alpha\"},\"fill_color\":{\"field\":\"color\"},\"height\":{\"field\":\"height\",\"units\":\"data\"},\"line_color\":{\"field\":\"line_color\"},\"width\":{\"field\":\"width\",\"units\":\"data\"},\"x\":{\"field\":\"x\"},\"y\":{\"field\":\"y\"}},\"id\":\"6687afdf-83c9-4c2a-aca9-c903e0fec10e\",\"type\":\"Rect\"},{\"attributes\":{\"fill_alpha\":{\"field\":\"fill_alpha\"},\"fill_color\":{\"field\":\"color\"},\"height\":{\"field\":\"height\",\"units\":\"data\"},\"line_color\":{\"field\":\"line_color\"},\"width\":{\"field\":\"width\",\"units\":\"data\"},\"x\":{\"field\":\"x\"},\"y\":{\"field\":\"y\"}},\"id\":\"6442a20d-5525-4c8b-ad7d-726f9d2b8c5b\",\"type\":\"Rect\"},{\"attributes\":{\"fill_alpha\":{\"field\":\"fill_alpha\"},\"fill_color\":{\"field\":\"color\"},\"height\":{\"field\":\"height\",\"units\":\"data\"},\"line_color\":{\"field\":\"line_color\"},\"width\":{\"field\":\"width\",\"units\":\"data\"},\"x\":{\"field\":\"x\"},\"y\":{\"field\":\"y\"}},\"id\":\"83e75bd2-e6c6-4114-ade1-06cd9887c8e8\",\"type\":\"Rect\"},{\"attributes\":{\"callback\":null,\"factors\":[\"15th-of-month\",\"1st-of-month\",\"CNY\",\"ColumbusDay\",\"Easter\",\"FatherDay\",\"Halloween\",\"Jewish-Holiday\",\"July-4th\",\"LaborDay\",\"LongWknd\",\"MLK\",\"Memorial\",\"MotherDay\",\"None\",\"Pres-day\",\"SuperBowl\",\"ThxGiving\",\"Valentines\",\"VeteransDay\",\"Xmas\"]},\"id\":\"029b0a0d-df2d-4286-8d78-0b90df5ec294\",\"type\":\"FactorRange\"},{\"attributes\":{\"fill_alpha\":{\"field\":\"fill_alpha\"},\"fill_color\":{\"field\":\"color\"},\"height\":{\"field\":\"height\",\"units\":\"data\"},\"line_color\":{\"field\":\"line_color\"},\"width\":{\"field\":\"width\",\"units\":\"data\"},\"x\":{\"field\":\"x\"},\"y\":{\"field\":\"y\"}},\"id\":\"86744455-069e-4263-b459-db3a1ca6eaeb\",\"type\":\"Rect\"},{\"attributes\":{\"data_source\":{\"id\":\"3ac33183-5a4f-4650-91ee-dd12b12739fb\",\"type\":\"ColumnDataSource\"},\"glyph\":{\"id\":\"6442a20d-5525-4c8b-ad7d-726f9d2b8c5b\",\"type\":\"Rect\"},\"hover_glyph\":null,\"nonselection_glyph\":null,\"selection_glyph\":null},\"id\":\"c185467e-9435-4fa4-97f4-bc222494adde\",\"type\":\"GlyphRenderer\"},{\"attributes\":{\"callback\":null,\"column_names\":[\"width\",\"fill_alpha\",\"height\",\"y\",\"color\",\"x\",\"label\",\"line_alpha\",\"line_color\"],\"data\":{\"Holidays\":[\"SuperBowl\"],\"chart_index\":[{\"Holidays\":\"SuperBowl\"}],\"color\":[\"#f22c40\"],\"fill_alpha\":[0.8],\"height\":[600.0],\"label\":[{\"Holidays\":\"SuperBowl\"}],\"line_alpha\":[1.0],\"line_color\":[\"white\"],\"width\":[0.8],\"x\":[\"SuperBowl\"],\"y\":[300.0]}},\"id\":\"4a67c472-46f6-4978-a6d5-41203014b15d\",\"type\":\"ColumnDataSource\"},{\"attributes\":{\"data_source\":{\"id\":\"47685946-4066-4dbe-b95d-6492051beebf\",\"type\":\"ColumnDataSource\"},\"glyph\":{\"id\":\"daba7f62-e13f-4b3f-8949-99c7c1519e0c\",\"type\":\"Rect\"},\"hover_glyph\":null,\"nonselection_glyph\":null,\"selection_glyph\":null},\"id\":\"f831b786-1d7e-48e4-b95a-52fe203c4c48\",\"type\":\"GlyphRenderer\"},{\"attributes\":{\"data_source\":{\"id\":\"efb8baeb-44ec-43d4-99c8-1bd4303b314c\",\"type\":\"ColumnDataSource\"},\"glyph\":{\"id\":\"55ab54b2-b8af-43fe-b726-63d39dd55a81\",\"type\":\"Rect\"},\"hover_glyph\":null,\"nonselection_glyph\":null,\"selection_glyph\":null},\"id\":\"25b0ba5a-4901-4821-8242-7bcae5e84657\",\"type\":\"GlyphRenderer\"},{\"attributes\":{\"fill_alpha\":{\"field\":\"fill_alpha\"},\"fill_color\":{\"field\":\"color\"},\"height\":{\"field\":\"height\",\"units\":\"data\"},\"line_color\":{\"field\":\"line_color\"},\"width\":{\"field\":\"width\",\"units\":\"data\"},\"x\":{\"field\":\"x\"},\"y\":{\"field\":\"y\"}},\"id\":\"e10f6ea8-9672-43d2-a473-0367c9634fdd\",\"type\":\"Rect\"},{\"attributes\":{\"data_source\":{\"id\":\"611e9a88-985a-4a23-97b5-b6704f58d92f\",\"type\":\"ColumnDataSource\"},\"glyph\":{\"id\":\"86744455-069e-4263-b459-db3a1ca6eaeb\",\"type\":\"Rect\"},\"hover_glyph\":null,\"nonselection_glyph\":null,\"selection_glyph\":null},\"id\":\"c5335acf-99aa-4219-869d-f83ab0c46be7\",\"type\":\"GlyphRenderer\"},{\"attributes\":{\"fill_alpha\":{\"field\":\"fill_alpha\"},\"fill_color\":{\"field\":\"color\"},\"height\":{\"field\":\"height\",\"units\":\"data\"},\"line_color\":{\"field\":\"line_color\"},\"width\":{\"field\":\"width\",\"units\":\"data\"},\"x\":{\"field\":\"x\"},\"y\":{\"field\":\"y\"}},\"id\":\"54778e66-b039-47de-ad23-a0833a95e0cf\",\"type\":\"Rect\"},{\"attributes\":{\"callback\":null,\"column_names\":[\"width\",\"fill_alpha\",\"height\",\"y\",\"color\",\"x\",\"label\",\"line_alpha\",\"line_color\"],\"data\":{\"Holidays\":[\"Valentines\"],\"chart_index\":[{\"Holidays\":\"Valentines\"}],\"color\":[\"#f22c40\"],\"fill_alpha\":[0.8],\"height\":[1811.0],\"label\":[{\"Holidays\":\"Valentines\"}],\"line_alpha\":[1.0],\"line_color\":[\"white\"],\"width\":[0.8],\"x\":[\"Valentines\"],\"y\":[905.5]}},\"id\":\"47685946-4066-4dbe-b95d-6492051beebf\",\"type\":\"ColumnDataSource\"},{\"attributes\":{\"callback\":null,\"column_names\":[\"width\",\"fill_alpha\",\"height\",\"y\",\"color\",\"x\",\"label\",\"line_alpha\",\"line_color\"],\"data\":{\"Holidays\":[\"CNY\"],\"chart_index\":[{\"Holidays\":\"CNY\"}],\"color\":[\"#f22c40\"],\"fill_alpha\":[0.8],\"height\":[66250.0],\"label\":[{\"Holidays\":\"CNY\"}],\"line_alpha\":[1.0],\"line_color\":[\"white\"],\"width\":[0.8],\"x\":[\"CNY\"],\"y\":[33125.0]}},\"id\":\"2ca4092f-d129-497f-b6cc-27bbae4052c6\",\"type\":\"ColumnDataSource\"},{\"attributes\":{\"callback\":null,\"column_names\":[\"width\",\"fill_alpha\",\"height\",\"y\",\"color\",\"x\",\"label\",\"line_alpha\",\"line_color\"],\"data\":{\"Holidays\":[\"Xmas\"],\"chart_index\":[{\"Holidays\":\"Xmas\"}],\"color\":[\"#f22c40\"],\"fill_alpha\":[0.8],\"height\":[1408.0],\"label\":[{\"Holidays\":\"Xmas\"}],\"line_alpha\":[1.0],\"line_color\":[\"white\"],\"width\":[0.8],\"x\":[\"Xmas\"],\"y\":[704.0]}},\"id\":\"611e9a88-985a-4a23-97b5-b6704f58d92f\",\"type\":\"ColumnDataSource\"},{\"attributes\":{\"data_source\":{\"id\":\"6d18bdda-5988-4ad3-84ea-42815a50b9e4\",\"type\":\"ColumnDataSource\"},\"glyph\":{\"id\":\"54778e66-b039-47de-ad23-a0833a95e0cf\",\"type\":\"Rect\"},\"hover_glyph\":null,\"nonselection_glyph\":null,\"selection_glyph\":null},\"id\":\"cad0bb8a-020d-4625-ae8b-9689d19052ce\",\"type\":\"GlyphRenderer\"},{\"attributes\":{},\"id\":\"87006131-98fa-41f0-b081-d782b15ba27e\",\"type\":\"BasicTickFormatter\"},{\"attributes\":{\"callback\":null,\"column_names\":[\"width\",\"fill_alpha\",\"height\",\"y\",\"color\",\"x\",\"label\",\"line_alpha\",\"line_color\"],\"data\":{\"Holidays\":[\"Pres-day\"],\"chart_index\":[{\"Holidays\":\"Pres-day\"}],\"color\":[\"#f22c40\"],\"fill_alpha\":[0.8],\"height\":[6635.0],\"label\":[{\"Holidays\":\"Pres-day\"}],\"line_alpha\":[1.0],\"line_color\":[\"white\"],\"width\":[0.8],\"x\":[\"Pres-day\"],\"y\":[3317.5]}},\"id\":\"efb8baeb-44ec-43d4-99c8-1bd4303b314c\",\"type\":\"ColumnDataSource\"},{\"attributes\":{\"fill_alpha\":{\"field\":\"fill_alpha\"},\"fill_color\":{\"field\":\"color\"},\"height\":{\"field\":\"height\",\"units\":\"data\"},\"line_color\":{\"field\":\"line_color\"},\"width\":{\"field\":\"width\",\"units\":\"data\"},\"x\":{\"field\":\"x\"},\"y\":{\"field\":\"y\"}},\"id\":\"0de4530d-1b5d-4e2b-afa4-94c469d76b0f\",\"type\":\"Rect\"},{\"attributes\":{\"callback\":null,\"column_names\":[\"width\",\"fill_alpha\",\"height\",\"y\",\"color\",\"x\",\"label\",\"line_alpha\",\"line_color\"],\"data\":{\"Holidays\":[\"Memorial\"],\"chart_index\":[{\"Holidays\":\"Memorial\"}],\"color\":[\"#f22c40\"],\"fill_alpha\":[0.8],\"height\":[5505.0],\"label\":[{\"Holidays\":\"Memorial\"}],\"line_alpha\":[1.0],\"line_color\":[\"white\"],\"width\":[0.8],\"x\":[\"Memorial\"],\"y\":[2752.5]}},\"id\":\"9e000b9b-5bfa-4d21-b38b-3c5cc0729d2e\",\"type\":\"ColumnDataSource\"},{\"attributes\":{\"callback\":null,\"column_names\":[\"width\",\"fill_alpha\",\"height\",\"y\",\"color\",\"x\",\"label\",\"line_alpha\",\"line_color\"],\"data\":{\"Holidays\":[\"1st-of-month\"],\"chart_index\":[{\"Holidays\":\"1st-of-month\"}],\"color\":[\"#f22c40\"],\"fill_alpha\":[0.8],\"height\":[52024.0],\"label\":[{\"Holidays\":\"1st-of-month\"}],\"line_alpha\":[1.0],\"line_color\":[\"white\"],\"width\":[0.8],\"x\":[\"1st-of-month\"],\"y\":[26012.0]}},\"id\":\"45764c14-d720-446e-9e57-a9650b8e14bf\",\"type\":\"ColumnDataSource\"},{\"attributes\":{\"fill_alpha\":{\"field\":\"fill_alpha\"},\"fill_color\":{\"field\":\"color\"},\"height\":{\"field\":\"height\",\"units\":\"data\"},\"line_color\":{\"field\":\"line_color\"},\"width\":{\"field\":\"width\",\"units\":\"data\"},\"x\":{\"field\":\"x\"},\"y\":{\"field\":\"y\"}},\"id\":\"b5222794-b64f-4d12-a402-ca80ff3a3eb8\",\"type\":\"Rect\"},{\"attributes\":{\"callback\":null,\"column_names\":[\"width\",\"fill_alpha\",\"height\",\"y\",\"color\",\"x\",\"label\",\"line_alpha\",\"line_color\"],\"data\":{\"Holidays\":[\"FatherDay\"],\"chart_index\":[{\"Holidays\":\"FatherDay\"}],\"color\":[\"#f22c40\"],\"fill_alpha\":[0.8],\"height\":[5623.0],\"label\":[{\"Holidays\":\"FatherDay\"}],\"line_alpha\":[1.0],\"line_color\":[\"white\"],\"width\":[0.8],\"x\":[\"FatherDay\"],\"y\":[2811.5]}},\"id\":\"d9e4d135-7d57-4d18-aee5-c9c94469b65a\",\"type\":\"ColumnDataSource\"},{\"attributes\":{\"plot\":{\"id\":\"d83f7e99-9fc6-4765-acdc-d51d8f21988a\",\"subtype\":\"Chart\",\"type\":\"Plot\"}},\"id\":\"29deeeff-1f7c-497c-a9d0-e82b13fddfaf\",\"type\":\"SaveTool\"},{\"attributes\":{\"bottom_units\":\"screen\",\"fill_alpha\":{\"value\":0.5},\"fill_color\":{\"value\":\"lightgrey\"},\"left_units\":\"screen\",\"level\":\"overlay\",\"line_alpha\":{\"value\":1.0},\"line_color\":{\"value\":\"black\"},\"line_dash\":[4,4],\"line_width\":{\"value\":2},\"plot\":null,\"render_mode\":\"css\",\"right_units\":\"screen\",\"top_units\":\"screen\"},\"id\":\"90172d32-102b-46e5-9838-37b4e8c1bd12\",\"type\":\"BoxAnnotation\"},{\"attributes\":{\"data_source\":{\"id\":\"bfb64c29-72d4-4a82-92de-99fb3e9f7153\",\"type\":\"ColumnDataSource\"},\"glyph\":{\"id\":\"8e1ce75c-0918-44ce-8976-e07874cef2e2\",\"type\":\"Rect\"},\"hover_glyph\":null,\"nonselection_glyph\":null,\"selection_glyph\":null},\"id\":\"dda22eb4-7751-43af-9fbc-eb41c3900755\",\"type\":\"GlyphRenderer\"},{\"attributes\":{\"callback\":null,\"column_names\":[\"width\",\"fill_alpha\",\"height\",\"y\",\"color\",\"x\",\"label\",\"line_alpha\",\"line_color\"],\"data\":{\"Holidays\":[\"July-4th\"],\"chart_index\":[{\"Holidays\":\"July-4th\"}],\"color\":[\"#f22c40\"],\"fill_alpha\":[0.8],\"height\":[3585.0],\"label\":[{\"Holidays\":\"July-4th\"}],\"line_alpha\":[1.0],\"line_color\":[\"white\"],\"width\":[0.8],\"x\":[\"July-4th\"],\"y\":[1792.5]}},\"id\":\"e4fe40ee-1b57-4d4d-8165-d1ebbc74d468\",\"type\":\"ColumnDataSource\"},{\"attributes\":{\"callback\":null,\"column_names\":[\"width\",\"fill_alpha\",\"height\",\"y\",\"color\",\"x\",\"label\",\"line_alpha\",\"line_color\"],\"data\":{\"Holidays\":[\"15th-of-month\"],\"chart_index\":[{\"Holidays\":\"15th-of-month\"}],\"color\":[\"#f22c40\"],\"fill_alpha\":[0.8],\"height\":[44787.0],\"label\":[{\"Holidays\":\"15th-of-month\"}],\"line_alpha\":[1.0],\"line_color\":[\"white\"],\"width\":[0.8],\"x\":[\"15th-of-month\"],\"y\":[22393.5]}},\"id\":\"fdab57b0-f881-41a1-bf19-fcdda13cd3b3\",\"type\":\"ColumnDataSource\"},{\"attributes\":{\"callback\":null,\"column_names\":[\"width\",\"fill_alpha\",\"height\",\"y\",\"color\",\"x\",\"label\",\"line_alpha\",\"line_color\"],\"data\":{\"Holidays\":[\"LaborDay\"],\"chart_index\":[{\"Holidays\":\"LaborDay\"}],\"color\":[\"#f22c40\"],\"fill_alpha\":[0.8],\"height\":[3342.0],\"label\":[{\"Holidays\":\"LaborDay\"}],\"line_alpha\":[1.0],\"line_color\":[\"white\"],\"width\":[0.8],\"x\":[\"LaborDay\"],\"y\":[1671.0]}},\"id\":\"3ac33183-5a4f-4650-91ee-dd12b12739fb\",\"type\":\"ColumnDataSource\"},{\"attributes\":{\"data_source\":{\"id\":\"0f0560f8-0ad2-483e-b630-6ca25ef1762f\",\"type\":\"ColumnDataSource\"},\"glyph\":{\"id\":\"b36fb24e-8aa4-430f-a88c-1a336c69f148\",\"type\":\"Rect\"},\"hover_glyph\":null,\"nonselection_glyph\":null,\"selection_glyph\":null},\"id\":\"6d33008d-002a-4691-8fc1-c03a0539ce7e\",\"type\":\"GlyphRenderer\"},{\"attributes\":{\"data_source\":{\"id\":\"6818daa3-427f-4b2f-8504-1fa6df2ecba6\",\"type\":\"ColumnDataSource\"},\"glyph\":{\"id\":\"38bb6b37-067f-4283-ac1c-45e2fe14fdcd\",\"type\":\"Rect\"},\"hover_glyph\":null,\"nonselection_glyph\":null,\"selection_glyph\":null},\"id\":\"c48583a2-37b4-4343-9bba-6e9ed1c518f5\",\"type\":\"GlyphRenderer\"},{\"attributes\":{\"data_source\":{\"id\":\"5bd19e12-47b6-4805-b909-9b446a193ed4\",\"type\":\"ColumnDataSource\"},\"glyph\":{\"id\":\"b113adcc-3a9d-4f07-a345-7d6abe686058\",\"type\":\"Rect\"},\"hover_glyph\":null,\"nonselection_glyph\":null,\"selection_glyph\":null},\"id\":\"245889c7-6199-4f8c-be24-49dfcda54b70\",\"type\":\"GlyphRenderer\"},{\"attributes\":{\"fill_alpha\":{\"field\":\"fill_alpha\"},\"fill_color\":{\"field\":\"color\"},\"height\":{\"field\":\"height\",\"units\":\"data\"},\"line_color\":{\"field\":\"line_color\"},\"width\":{\"field\":\"width\",\"units\":\"data\"},\"x\":{\"field\":\"x\"},\"y\":{\"field\":\"y\"}},\"id\":\"1fc2497c-36e1-4ad4-b2c4-777638266604\",\"type\":\"Rect\"},{\"attributes\":{\"fill_alpha\":{\"field\":\"fill_alpha\"},\"fill_color\":{\"field\":\"color\"},\"height\":{\"field\":\"height\",\"units\":\"data\"},\"line_color\":{\"field\":\"line_color\"},\"width\":{\"field\":\"width\",\"units\":\"data\"},\"x\":{\"field\":\"x\"},\"y\":{\"field\":\"y\"}},\"id\":\"8e1ce75c-0918-44ce-8976-e07874cef2e2\",\"type\":\"Rect\"},{\"attributes\":{\"data_source\":{\"id\":\"51b70f11-eea0-4a96-ab65-a52dba6f7ebe\",\"type\":\"ColumnDataSource\"},\"glyph\":{\"id\":\"0de4530d-1b5d-4e2b-afa4-94c469d76b0f\",\"type\":\"Rect\"},\"hover_glyph\":null,\"nonselection_glyph\":null,\"selection_glyph\":null},\"id\":\"538ded13-4c97-4015-8745-66aeb1f9a2a4\",\"type\":\"GlyphRenderer\"},{\"attributes\":{\"data_source\":{\"id\":\"9e000b9b-5bfa-4d21-b38b-3c5cc0729d2e\",\"type\":\"ColumnDataSource\"},\"glyph\":{\"id\":\"1fc2497c-36e1-4ad4-b2c4-777638266604\",\"type\":\"Rect\"},\"hover_glyph\":null,\"nonselection_glyph\":null,\"selection_glyph\":null},\"id\":\"da8eb322-0264-4ab9-9b6e-03d84cd1fa09\",\"type\":\"GlyphRenderer\"},{\"attributes\":{\"axis_label\":\"Holidays\",\"formatter\":{\"id\":\"30d47513-b97b-482b-92ef-02c006ef2f28\",\"type\":\"CategoricalTickFormatter\"},\"major_label_orientation\":0.7853981633974483,\"plot\":{\"id\":\"d83f7e99-9fc6-4765-acdc-d51d8f21988a\",\"subtype\":\"Chart\",\"type\":\"Plot\"},\"ticker\":{\"id\":\"f8615f22-ec04-4cc7-acb4-ee086e8bb14a\",\"type\":\"CategoricalTicker\"}},\"id\":\"5ec60d55-b86e-40a1-92aa-363dd9c0be07\",\"type\":\"CategoricalAxis\"},{\"attributes\":{\"fill_alpha\":{\"field\":\"fill_alpha\"},\"fill_color\":{\"field\":\"color\"},\"height\":{\"field\":\"height\",\"units\":\"data\"},\"line_color\":{\"field\":\"line_color\"},\"width\":{\"field\":\"width\",\"units\":\"data\"},\"x\":{\"field\":\"x\"},\"y\":{\"field\":\"y\"}},\"id\":\"b36fb24e-8aa4-430f-a88c-1a336c69f148\",\"type\":\"Rect\"},{\"attributes\":{\"fill_alpha\":{\"field\":\"fill_alpha\"},\"fill_color\":{\"field\":\"color\"},\"height\":{\"field\":\"height\",\"units\":\"data\"},\"line_color\":{\"field\":\"line_color\"},\"width\":{\"field\":\"width\",\"units\":\"data\"},\"x\":{\"field\":\"x\"},\"y\":{\"field\":\"y\"}},\"id\":\"ec5bca32-d5c3-430b-ab95-6d97faf12c54\",\"type\":\"Rect\"},{\"attributes\":{\"fill_alpha\":{\"field\":\"fill_alpha\"},\"fill_color\":{\"field\":\"color\"},\"height\":{\"field\":\"height\",\"units\":\"data\"},\"line_color\":{\"field\":\"line_color\"},\"width\":{\"field\":\"width\",\"units\":\"data\"},\"x\":{\"field\":\"x\"},\"y\":{\"field\":\"y\"}},\"id\":\"fcbf7533-46b0-4c6d-9a8e-177557f993cd\",\"type\":\"Rect\"},{\"attributes\":{\"data_source\":{\"id\":\"e9cb6b11-9738-4233-a5aa-3444be186917\",\"type\":\"ColumnDataSource\"},\"glyph\":{\"id\":\"8e7b2a1e-6e6d-4ca5-96a5-8539e8fe35b5\",\"type\":\"Rect\"},\"hover_glyph\":null,\"nonselection_glyph\":null,\"selection_glyph\":null},\"id\":\"25f192a7-1bbe-4c13-a0bb-6da9a5ef64a5\",\"type\":\"GlyphRenderer\"},{\"attributes\":{\"callback\":null,\"column_names\":[\"width\",\"fill_alpha\",\"height\",\"y\",\"color\",\"x\",\"label\",\"line_alpha\",\"line_color\"],\"data\":{\"Holidays\":[\"MLK\"],\"chart_index\":[{\"Holidays\":\"MLK\"}],\"color\":[\"#f22c40\"],\"fill_alpha\":[0.8],\"height\":[6342.0],\"label\":[{\"Holidays\":\"MLK\"}],\"line_alpha\":[1.0],\"line_color\":[\"white\"],\"width\":[0.8],\"x\":[\"MLK\"],\"y\":[3171.0]}},\"id\":\"6818daa3-427f-4b2f-8504-1fa6df2ecba6\",\"type\":\"ColumnDataSource\"},{\"attributes\":{\"callback\":null,\"column_names\":[\"width\",\"fill_alpha\",\"height\",\"y\",\"color\",\"x\",\"label\",\"line_alpha\",\"line_color\"],\"data\":{\"Holidays\":[\"None\"],\"chart_index\":[{\"Holidays\":\"None\"}],\"color\":[\"#f22c40\"],\"fill_alpha\":[0.8],\"height\":[1157375.0],\"label\":[{\"Holidays\":\"None\"}],\"line_alpha\":[1.0],\"line_color\":[\"white\"],\"width\":[0.8],\"x\":[\"None\"],\"y\":[578687.5]}},\"id\":\"a661c3b6-ff1c-43c3-a54a-ea21562f509c\",\"type\":\"ColumnDataSource\"},{\"attributes\":{\"fill_alpha\":{\"field\":\"fill_alpha\"},\"fill_color\":{\"field\":\"color\"},\"height\":{\"field\":\"height\",\"units\":\"data\"},\"line_color\":{\"field\":\"line_color\"},\"width\":{\"field\":\"width\",\"units\":\"data\"},\"x\":{\"field\":\"x\"},\"y\":{\"field\":\"y\"}},\"id\":\"38bb6b37-067f-4283-ac1c-45e2fe14fdcd\",\"type\":\"Rect\"},{\"attributes\":{\"fill_alpha\":{\"field\":\"fill_alpha\"},\"fill_color\":{\"field\":\"color\"},\"height\":{\"field\":\"height\",\"units\":\"data\"},\"line_color\":{\"field\":\"line_color\"},\"width\":{\"field\":\"width\",\"units\":\"data\"},\"x\":{\"field\":\"x\"},\"y\":{\"field\":\"y\"}},\"id\":\"98055323-5619-46ea-bbfc-04f96788e3f2\",\"type\":\"Rect\"},{\"attributes\":{},\"id\":\"0f15c856-6083-4c1f-9511-5e01eab7b5ce\",\"type\":\"ToolEvents\"},{\"attributes\":{\"fill_alpha\":{\"field\":\"fill_alpha\"},\"fill_color\":{\"field\":\"color\"},\"height\":{\"field\":\"height\",\"units\":\"data\"},\"line_color\":{\"field\":\"line_color\"},\"width\":{\"field\":\"width\",\"units\":\"data\"},\"x\":{\"field\":\"x\"},\"y\":{\"field\":\"y\"}},\"id\":\"9b5915d4-07c5-4e95-a1d8-2df42ac67b02\",\"type\":\"Rect\"},{\"attributes\":{\"data_source\":{\"id\":\"8d2b8430-2ef2-4d85-978c-4cebb4c2b327\",\"type\":\"ColumnDataSource\"},\"glyph\":{\"id\":\"6687afdf-83c9-4c2a-aca9-c903e0fec10e\",\"type\":\"Rect\"},\"hover_glyph\":null,\"nonselection_glyph\":null,\"selection_glyph\":null},\"id\":\"606eba4a-9067-448c-a6cd-a429a92aafe9\",\"type\":\"GlyphRenderer\"},{\"attributes\":{\"callback\":null,\"column_names\":[\"width\",\"fill_alpha\",\"height\",\"y\",\"color\",\"x\",\"label\",\"line_alpha\",\"line_color\"],\"data\":{\"Holidays\":[\"ColumbusDay\"],\"chart_index\":[{\"Holidays\":\"ColumbusDay\"}],\"color\":[\"#f22c40\"],\"fill_alpha\":[0.8],\"height\":[3214.0],\"label\":[{\"Holidays\":\"ColumbusDay\"}],\"line_alpha\":[1.0],\"line_color\":[\"white\"],\"width\":[0.8],\"x\":[\"ColumbusDay\"],\"y\":[1607.0]}},\"id\":\"5bd19e12-47b6-4805-b909-9b446a193ed4\",\"type\":\"ColumnDataSource\"},{\"attributes\":{\"data_source\":{\"id\":\"2ca4092f-d129-497f-b6cc-27bbae4052c6\",\"type\":\"ColumnDataSource\"},\"glyph\":{\"id\":\"ec5bca32-d5c3-430b-ab95-6d97faf12c54\",\"type\":\"Rect\"},\"hover_glyph\":null,\"nonselection_glyph\":null,\"selection_glyph\":null},\"id\":\"cefb7779-25bd-4892-aa05-9a21a1c76847\",\"type\":\"GlyphRenderer\"},{\"attributes\":{\"callback\":null,\"column_names\":[\"width\",\"fill_alpha\",\"height\",\"y\",\"color\",\"x\",\"label\",\"line_alpha\",\"line_color\"],\"data\":{\"Holidays\":[\"MotherDay\"],\"chart_index\":[{\"Holidays\":\"MotherDay\"}],\"color\":[\"#f22c40\"],\"fill_alpha\":[0.8],\"height\":[5584.0],\"label\":[{\"Holidays\":\"MotherDay\"}],\"line_alpha\":[1.0],\"line_color\":[\"white\"],\"width\":[0.8],\"x\":[\"MotherDay\"],\"y\":[2792.0]}},\"id\":\"e9cb6b11-9738-4233-a5aa-3444be186917\",\"type\":\"ColumnDataSource\"},{\"attributes\":{\"fill_alpha\":{\"field\":\"fill_alpha\"},\"fill_color\":{\"field\":\"color\"},\"height\":{\"field\":\"height\",\"units\":\"data\"},\"line_color\":{\"field\":\"line_color\"},\"width\":{\"field\":\"width\",\"units\":\"data\"},\"x\":{\"field\":\"x\"},\"y\":{\"field\":\"y\"}},\"id\":\"b113adcc-3a9d-4f07-a345-7d6abe686058\",\"type\":\"Rect\"},{\"attributes\":{\"background_fill_alpha\":{\"value\":0.5},\"background_fill_color\":{\"value\":\"beige\"},\"below\":[{\"id\":\"5ec60d55-b86e-40a1-92aa-363dd9c0be07\",\"type\":\"CategoricalAxis\"}],\"left\":[{\"id\":\"3d066238-bfb5-4a13-af8c-8fe176739222\",\"type\":\"LinearAxis\"}],\"outline_line_alpha\":{\"value\":0.3},\"outline_line_color\":{\"value\":\"navy\"},\"outline_line_width\":{\"value\":7},\"renderers\":[{\"id\":\"90172d32-102b-46e5-9838-37b4e8c1bd12\",\"type\":\"BoxAnnotation\"},{\"id\":\"8f3bdf56-14b6-4aa3-aa27-7e337b509eb9\",\"type\":\"GlyphRenderer\"},{\"id\":\"5eadac0f-f940-4202-a8f9-93b10a7a53de\",\"type\":\"GlyphRenderer\"},{\"id\":\"2a468b29-aa49-49c1-9955-3ac22e3d3b0d\",\"type\":\"GlyphRenderer\"},{\"id\":\"5e913f87-cded-4616-9138-006cb74d0dc8\",\"type\":\"GlyphRenderer\"},{\"id\":\"c48583a2-37b4-4343-9bba-6e9ed1c518f5\",\"type\":\"GlyphRenderer\"},{\"id\":\"cefb7779-25bd-4892-aa05-9a21a1c76847\",\"type\":\"GlyphRenderer\"},{\"id\":\"538ded13-4c97-4015-8745-66aeb1f9a2a4\",\"type\":\"GlyphRenderer\"},{\"id\":\"25f192a7-1bbe-4c13-a0bb-6da9a5ef64a5\",\"type\":\"GlyphRenderer\"},{\"id\":\"da8eb322-0264-4ab9-9b6e-03d84cd1fa09\",\"type\":\"GlyphRenderer\"},{\"id\":\"1c5b2162-0ed6-4843-8a88-6fff59d0a48f\",\"type\":\"GlyphRenderer\"},{\"id\":\"9c29c198-8e06-47c4-bb24-cf6b71bed1f0\",\"type\":\"GlyphRenderer\"},{\"id\":\"c185467e-9435-4fa4-97f4-bc222494adde\",\"type\":\"GlyphRenderer\"},{\"id\":\"245889c7-6199-4f8c-be24-49dfcda54b70\",\"type\":\"GlyphRenderer\"},{\"id\":\"dda22eb4-7751-43af-9fbc-eb41c3900755\",\"type\":\"GlyphRenderer\"},{\"id\":\"606eba4a-9067-448c-a6cd-a429a92aafe9\",\"type\":\"GlyphRenderer\"},{\"id\":\"cad0bb8a-020d-4625-ae8b-9689d19052ce\",\"type\":\"GlyphRenderer\"},{\"id\":\"c5335acf-99aa-4219-869d-f83ab0c46be7\",\"type\":\"GlyphRenderer\"},{\"id\":\"f831b786-1d7e-48e4-b95a-52fe203c4c48\",\"type\":\"GlyphRenderer\"},{\"id\":\"25b0ba5a-4901-4821-8242-7bcae5e84657\",\"type\":\"GlyphRenderer\"},{\"id\":\"59a0f2f6-6897-4593-b516-5d5e209f3a59\",\"type\":\"GlyphRenderer\"},{\"id\":\"6d33008d-002a-4691-8fc1-c03a0539ce7e\",\"type\":\"GlyphRenderer\"},{\"id\":\"5ec60d55-b86e-40a1-92aa-363dd9c0be07\",\"type\":\"CategoricalAxis\"},{\"id\":\"3d066238-bfb5-4a13-af8c-8fe176739222\",\"type\":\"LinearAxis\"},{\"id\":\"570a7fe6-9e85-4869-8389-81349c0518f1\",\"type\":\"Grid\"}],\"title\":{\"id\":\"b6220250-facd-4ac1-9182-746815305857\",\"type\":\"Title\"},\"tool_events\":{\"id\":\"0f15c856-6083-4c1f-9511-5e01eab7b5ce\",\"type\":\"ToolEvents\"},\"toolbar\":{\"id\":\"01c9a393-8c91-40b3-b364-283f4b101b7a\",\"type\":\"Toolbar\"},\"x_mapper_type\":\"auto\",\"x_range\":{\"id\":\"029b0a0d-df2d-4286-8d78-0b90df5ec294\",\"type\":\"FactorRange\"},\"y_mapper_type\":\"auto\",\"y_range\":{\"id\":\"7d850fbc-d971-43b5-8cb1-1ad490a1f401\",\"type\":\"Range1d\"}},\"id\":\"d83f7e99-9fc6-4765-acdc-d51d8f21988a\",\"subtype\":\"Chart\",\"type\":\"Plot\"},{\"attributes\":{\"active_drag\":\"auto\",\"active_scroll\":\"auto\",\"active_tap\":\"auto\",\"tools\":[{\"id\":\"5cccde18-3269-426b-9595-e7e3701e99f4\",\"type\":\"PanTool\"},{\"id\":\"83157aea-8d3b-4a7b-9992-ec5efd36764b\",\"type\":\"WheelZoomTool\"},{\"id\":\"95015a5a-e400-4b50-9221-1915fb932537\",\"type\":\"BoxZoomTool\"},{\"id\":\"29deeeff-1f7c-497c-a9d0-e82b13fddfaf\",\"type\":\"SaveTool\"},{\"id\":\"3da4c63d-daf8-49b6-a16f-d16ceee80288\",\"type\":\"ResetTool\"},{\"id\":\"89c55d1e-3a44-49fe-be90-c72446f896ab\",\"type\":\"HelpTool\"}]},\"id\":\"01c9a393-8c91-40b3-b364-283f4b101b7a\",\"type\":\"Toolbar\"},{\"attributes\":{\"callback\":null,\"column_names\":[\"width\",\"fill_alpha\",\"height\",\"y\",\"color\",\"x\",\"label\",\"line_alpha\",\"line_color\"],\"data\":{\"Holidays\":[\"Halloween\"],\"chart_index\":[{\"Holidays\":\"Halloween\"}],\"color\":[\"#f22c40\"],\"fill_alpha\":[0.8],\"height\":[2692.0],\"label\":[{\"Holidays\":\"Halloween\"}],\"line_alpha\":[1.0],\"line_color\":[\"white\"],\"width\":[0.8],\"x\":[\"Halloween\"],\"y\":[1346.0]}},\"id\":\"bfb64c29-72d4-4a82-92de-99fb3e9f7153\",\"type\":\"ColumnDataSource\"}],\"root_ids\":[\"d83f7e99-9fc6-4765-acdc-d51d8f21988a\"]},\"title\":\"Bokeh Application\",\"version\":\"0.12.3\"}};\n",
       "            var render_items = [{\"docid\":\"d8d7b3ff-2a60-43b9-97f4-a6f7673d9b2f\",\"elementid\":\"71e4e882-8183-4db8-bd99-aa5997b24b59\",\"modelid\":\"d83f7e99-9fc6-4765-acdc-d51d8f21988a\"}];\n",
       "            \n",
       "            Bokeh.embed.embed_items(docs_json, render_items);\n",
       "        });\n",
       "      },\n",
       "      function(Bokeh) {\n",
       "      }\n",
       "    ];\n",
       "  \n",
       "    function run_inline_js() {\n",
       "      \n",
       "      if ((window.Bokeh !== undefined) || (force === \"1\")) {\n",
       "        for (var i = 0; i < inline_js.length; i++) {\n",
       "          inline_js[i](window.Bokeh);\n",
       "        }if (force === \"1\") {\n",
       "          display_loaded();\n",
       "        }} else if (Date.now() < window._bokeh_timeout) {\n",
       "        setTimeout(run_inline_js, 100);\n",
       "      } else if (!window._bokeh_failed_load) {\n",
       "        console.log(\"Bokeh: BokehJS failed to load within specified timeout.\");\n",
       "        window._bokeh_failed_load = true;\n",
       "      } else if (!force) {\n",
       "        var cell = $(\"#71e4e882-8183-4db8-bd99-aa5997b24b59\").parents('.cell').data().cell;\n",
       "        cell.output_area.append_execute_result(NB_LOAD_WARNING)\n",
       "      }\n",
       "  \n",
       "    }\n",
       "  \n",
       "    if (window._bokeh_is_loading === 0) {\n",
       "      console.log(\"Bokeh: BokehJS loaded, going straight to plotting\");\n",
       "      run_inline_js();\n",
       "    } else {\n",
       "      load_libs(js_urls, function() {\n",
       "        console.log(\"Bokeh: BokehJS plotting callback run at\", now());\n",
       "        run_inline_js();\n",
       "      });\n",
       "    }\n",
       "  }(this));\n",
       "</script>"
      ]
     },
     "metadata": {},
     "output_type": "display_data"
    }
   ],
   "source": [
    "df.sort('Holidays')\n",
    "p = Bar(df, label='Holidays', values='checkins', agg='sum',\n",
    "        title=\"Total checkins by Holidays\", legend= False)\n",
    "p.outline_line_width = 7\n",
    "p.outline_line_alpha = 0.3\n",
    "p.outline_line_color = \"navy\"\n",
    "p.background_fill_color = \"beige\"\n",
    "p.background_fill_alpha = 0.5\n",
    "p.ygrid.grid_line_alpha = 0.5\n",
    "#output_file(\"bar.html\")\n",
    "\n",
    "show(p)"
   ]
  },
  {
   "cell_type": "markdown",
   "metadata": {},
   "source": [
    "## Box plots:"
   ]
  },
  {
   "cell_type": "code",
   "execution_count": 5,
   "metadata": {
    "collapsed": false
   },
   "outputs": [],
   "source": [
    "dfmv = pd.read_csv('Transform-Data/TrainDataNew.csv',header = 0, na_values = 'NA')"
   ]
  },
  {
   "cell_type": "code",
   "execution_count": 6,
   "metadata": {
    "collapsed": true
   },
   "outputs": [],
   "source": [
    "headers = df.dtypes.index"
   ]
  },
  {
   "cell_type": "code",
   "execution_count": 7,
   "metadata": {
    "collapsed": false
   },
   "outputs": [],
   "source": [
    "from bokeh.charts import BoxPlot, output_file, show\n",
    "from bokeh.layouts import row\n",
    "#from bokeh.sampledata.autompg import autompg as df\n",
    "\n",
    "# origin = the source of the data that makes up the autompg dataset\n",
    "\n",
    "\n",
    "# color by one dimension and label by two dimensions\n",
    "# coloring by one of the columns visually groups them together\n",
    "\n",
    "box = BoxPlot(dfmv, values='checkins', label='Jan', plot_width=200, plot_height=200 , color='Jan')\n",
    "box1 = BoxPlot(dfmv, values='checkins', label='Nov', plot_width=200, plot_height=200 ,color='Nov')\n",
    "box2 = BoxPlot(dfmv, values='checkins', label='Sun', plot_width=200, plot_height=200 ,color='Sun' )\n",
    "box3 = BoxPlot(dfmv, values='checkins', label='Fri', plot_width=200, plot_height=200 ,color='Fri' )\n",
    "box4 = BoxPlot(dfmv, values='checkins', label='Xmas', plot_width=200, plot_height=200 ,color='Xmas' )\n",
    "box5 = BoxPlot(dfmv, values='checkins', label='Valentines', plot_width=200, plot_height=200 ,color='Valentines' )\n",
    "\n",
    "\n",
    "\n",
    "#output_file('box.html')\n",
    "show(row(box,box1,box2,box3,box4,box5))\n",
    "#output_file(\"boxplot_single.html\", title=\"boxplot_single.py example\")\n",
    "\n",
    "#show(box)"
   ]
  },
  {
   "cell_type": "markdown",
   "metadata": {},
   "source": [
    "## Multivariate:"
   ]
  },
  {
   "cell_type": "code",
   "execution_count": 8,
   "metadata": {
    "collapsed": false
   },
   "outputs": [
    {
     "name": "stdout",
     "output_type": "stream",
     "text": [
      "Wrote iris_splom.html\n"
     ]
    }
   ],
   "source": [
    "from __future__ import print_function\n",
    "\n",
    "from bokeh.document import Document\n",
    "from bokeh.embed import file_html\n",
    "from bokeh.layouts import gridplot\n",
    "from bokeh.models.glyphs import Circle\n",
    "from bokeh.models import (BasicTicker, ColumnDataSource, Grid, LinearAxis,\n",
    "                         DataRange1d, PanTool, Plot, WheelZoomTool)\n",
    "from bokeh.resources import INLINE\n",
    "from bokeh.sampledata.iris import flowers\n",
    "from bokeh.util.browser import view\n",
    "\n",
    "colormap = {1: 'red', 0: 'green'}\n",
    "\n",
    "dfmv['checkins'] = dfmv['JewishHoliday'].map(lambda x: colormap[x])\n",
    "\n",
    "\n",
    "source = ColumnDataSource(\n",
    "    data=dict(\n",
    "        RewardsCardholder=dfmv['RewardsCardholder'],\n",
    "        SpecialEventCustomer=dfmv['SpecialEventCustomer'],\n",
    "        FreeAndIndependentTraveler=dfmv['FreeAndIndependentTraveler'],\n",
    "        WholeSaleCustomer=dfmv['RewardsCardholder'],\n",
    "        GroupMemberCustomer=dfmv['GroupMemberCustomer'],\n",
    "        AvgRoomRateFofIndepedentTraveler=dfmv['AvgRoomRateFofIndepedentTraveler'],\n",
    "        checkins=dfmv['checkins'],\n",
    "    )\n",
    ")\n",
    "\n",
    "xdr = DataRange1d(bounds=None)\n",
    "ydr = DataRange1d(bounds=None)\n",
    "\n",
    "def make_plot(xname, yname, xax=False, yax=False):\n",
    "    mbl = 40 if yax else 0\n",
    "    mbb = 40 if xax else 0\n",
    "    plot = Plot(\n",
    "        x_range=xdr, y_range=ydr, background_fill_color=\"#efe8e2\",\n",
    "        border_fill_color='white', plot_width=200 + mbl, plot_height=200 + mbb,\n",
    "        min_border_left=2+mbl, min_border_right=2, min_border_top=2, min_border_bottom=2+mbb)\n",
    "\n",
    "    circle = Circle(x=xname, y=yname, fill_color=\"checkins\", fill_alpha=0.2, size=4, line_color=\"checkins\")\n",
    "    r = plot.add_glyph(source, circle)\n",
    "\n",
    "    xdr.renderers.append(r)\n",
    "    ydr.renderers.append(r)\n",
    "\n",
    "    xticker = BasicTicker()\n",
    "    if xax:\n",
    "        xaxis = LinearAxis()\n",
    "        plot.add_layout(xaxis, 'below')\n",
    "        xticker = xaxis.ticker\n",
    "    plot.add_layout(Grid(dimension=0, ticker=xticker))\n",
    "\n",
    "    yticker = BasicTicker()\n",
    "    if yax:\n",
    "        yaxis = LinearAxis()\n",
    "        plot.add_layout(yaxis, 'left')\n",
    "        yticker = yaxis.ticker\n",
    "    plot.add_layout(Grid(dimension=1, ticker=yticker))\n",
    "\n",
    "    plot.add_tools(PanTool(), WheelZoomTool())\n",
    "\n",
    "    return plot\n",
    "\n",
    "xattrs = [\"RewardsCardholder\",\"SpecialEventCustomer\",\"FreeAndIndependentTraveler\",\"RewardsCardholder\",\"GroupMemberCustomer\",\"AvgRoomRateFofIndepedentTraveler\"]\n",
    "yattrs = list(reversed(xattrs))\n",
    "plots = []\n",
    "\n",
    "for y in yattrs:\n",
    "    row = []\n",
    "    for x in xattrs:\n",
    "        xax = (y == yattrs[-1])\n",
    "        yax = (x == xattrs[0])\n",
    "        plot = make_plot(x, y, xax, yax)\n",
    "        row.append(plot)\n",
    "    plots.append(row)\n",
    "\n",
    "grid = gridplot(plots)\n",
    "\n",
    "doc = Document()\n",
    "doc.add_root(grid)\n",
    "\n",
    "if __name__ == \"__main__\":\n",
    "    doc.validate()\n",
    "    filename = \"iris_splom.html\"\n",
    "    with open(filename, \"w\") as f:\n",
    "        f.write(file_html(doc, INLINE, \"Iris Data SPLOM\"))\n",
    "    print(\"Wrote %s\" % filename)\n",
    "    view(filename)"
   ]
  },
  {
   "cell_type": "markdown",
   "metadata": {},
   "source": [
    "# Dotplot:"
   ]
  },
  {
   "cell_type": "markdown",
   "metadata": {},
   "source": [
    "Explore the coefficients fo each of the independent variables"
   ]
  },
  {
   "cell_type": "code",
   "execution_count": 29,
   "metadata": {
    "collapsed": false,
    "scrolled": true
   },
   "outputs": [
    {
     "data": {
      "text/html": [
       "\n",
       "\n",
       "    <div class=\"bk-root\">\n",
       "        <div class=\"plotdiv\" id=\"f5555fb7-68ab-47f1-bd49-5b2a4259349c\"></div>\n",
       "    </div>\n",
       "<script type=\"text/javascript\">\n",
       "  \n",
       "  (function(global) {\n",
       "    function now() {\n",
       "      return new Date();\n",
       "    }\n",
       "  \n",
       "    var force = \"\";\n",
       "  \n",
       "    if (typeof (window._bokeh_onload_callbacks) === \"undefined\" || force !== \"\") {\n",
       "      window._bokeh_onload_callbacks = [];\n",
       "      window._bokeh_is_loading = undefined;\n",
       "    }\n",
       "  \n",
       "  \n",
       "    \n",
       "    if (typeof (window._bokeh_timeout) === \"undefined\" || force !== \"\") {\n",
       "      window._bokeh_timeout = Date.now() + 0;\n",
       "      window._bokeh_failed_load = false;\n",
       "    }\n",
       "  \n",
       "    var NB_LOAD_WARNING = {'data': {'text/html':\n",
       "       \"<div style='background-color: #fdd'>\\n\"+\n",
       "       \"<p>\\n\"+\n",
       "       \"BokehJS does not appear to have successfully loaded. If loading BokehJS from CDN, this \\n\"+\n",
       "       \"may be due to a slow or bad network connection. Possible fixes:\\n\"+\n",
       "       \"</p>\\n\"+\n",
       "       \"<ul>\\n\"+\n",
       "       \"<li>re-rerun `output_notebook()` to attempt to load from CDN again, or</li>\\n\"+\n",
       "       \"<li>use INLINE resources instead, as so:</li>\\n\"+\n",
       "       \"</ul>\\n\"+\n",
       "       \"<code>\\n\"+\n",
       "       \"from bokeh.resources import INLINE\\n\"+\n",
       "       \"output_notebook(resources=INLINE)\\n\"+\n",
       "       \"</code>\\n\"+\n",
       "       \"</div>\"}};\n",
       "  \n",
       "    function display_loaded() {\n",
       "      if (window.Bokeh !== undefined) {\n",
       "        Bokeh.$(\"#f5555fb7-68ab-47f1-bd49-5b2a4259349c\").text(\"BokehJS successfully loaded.\");\n",
       "      } else if (Date.now() < window._bokeh_timeout) {\n",
       "        setTimeout(display_loaded, 100)\n",
       "      }\n",
       "    }\n",
       "  \n",
       "    function run_callbacks() {\n",
       "      window._bokeh_onload_callbacks.forEach(function(callback) { callback() });\n",
       "      delete window._bokeh_onload_callbacks\n",
       "      console.info(\"Bokeh: all callbacks have finished\");\n",
       "    }\n",
       "  \n",
       "    function load_libs(js_urls, callback) {\n",
       "      window._bokeh_onload_callbacks.push(callback);\n",
       "      if (window._bokeh_is_loading > 0) {\n",
       "        console.log(\"Bokeh: BokehJS is being loaded, scheduling callback at\", now());\n",
       "        return null;\n",
       "      }\n",
       "      if (js_urls == null || js_urls.length === 0) {\n",
       "        run_callbacks();\n",
       "        return null;\n",
       "      }\n",
       "      console.log(\"Bokeh: BokehJS not loaded, scheduling load and callback at\", now());\n",
       "      window._bokeh_is_loading = js_urls.length;\n",
       "      for (var i = 0; i < js_urls.length; i++) {\n",
       "        var url = js_urls[i];\n",
       "        var s = document.createElement('script');\n",
       "        s.src = url;\n",
       "        s.async = false;\n",
       "        s.onreadystatechange = s.onload = function() {\n",
       "          window._bokeh_is_loading--;\n",
       "          if (window._bokeh_is_loading === 0) {\n",
       "            console.log(\"Bokeh: all BokehJS libraries loaded\");\n",
       "            run_callbacks()\n",
       "          }\n",
       "        };\n",
       "        s.onerror = function() {\n",
       "          console.warn(\"failed to load library \" + url);\n",
       "        };\n",
       "        console.log(\"Bokeh: injecting script tag for BokehJS library: \", url);\n",
       "        document.getElementsByTagName(\"head\")[0].appendChild(s);\n",
       "      }\n",
       "    };var element = document.getElementById(\"f5555fb7-68ab-47f1-bd49-5b2a4259349c\");\n",
       "    if (element == null) {\n",
       "      console.log(\"Bokeh: ERROR: autoload.js configured with elementid 'f5555fb7-68ab-47f1-bd49-5b2a4259349c' but no matching script tag was found. \")\n",
       "      return false;\n",
       "    }\n",
       "  \n",
       "    var js_urls = [];\n",
       "  \n",
       "    var inline_js = [\n",
       "      function(Bokeh) {\n",
       "        Bokeh.$(function() {\n",
       "            var docs_json = {\"a638b379-e791-4d0e-9165-98c057def615\":{\"roots\":{\"references\":[{\"attributes\":{\"formatter\":{\"id\":\"b6ece3d2-ef63-43e2-a3ca-fb05e806eeeb\",\"type\":\"BasicTickFormatter\"},\"plot\":{\"id\":\"136f10a8-e7dc-4bf6-9ff3-474a252bf98e\",\"subtype\":\"Figure\",\"type\":\"Plot\"},\"ticker\":{\"id\":\"79dfe589-1203-4c5a-8288-764d66cdee6f\",\"type\":\"BasicTicker\"}},\"id\":\"9c10b94d-2d83-4c67-ae36-59f7015b76b5\",\"type\":\"LinearAxis\"},{\"attributes\":{\"callback\":null,\"factors\":[\"X1st.of.Month\",\"X15th.of.Month\",\"JewishHoliday\",\"CNY15Days\",\"CNY7Days\",\"ChineseNewYear\",\"SuperBowl\",\"Valentines\",\"Halloween\",\"NewYear'sDay\",\"MartinLutherKingDay\",\"Pres.Day\",\"Easter\",\"Memorial\",\"MotherDay\",\"FatherDay\",\"July.4th\",\"LaborDay\",\"ColumbusDay\",\"VeteransDay\",\"ThxGiving\",\"Xmas\",\"LongWKend\",\"Jan\",\"Feb\",\"Mar\",\"Apr\",\"May\",\"Jun\",\"Jul\",\"Aug\",\"Sep\",\"Oct\",\"Nov\",\"Sun\",\"Mon\",\"Tue\",\"Wed\",\"Thu\",\"Fri\",\"RewardsCardholder\",\"SpecialEventCustomer\",\"FreeAndIndependentTraveler\",\"WholeSaleCustomer\",\"GroupMemberCustomer\",\"AvgRoomRateFofIndepedentTraveler\"]},\"id\":\"62d6a368-738e-4fd1-b955-09f9c4d5a658\",\"type\":\"FactorRange\"},{\"attributes\":{\"active_drag\":\"auto\",\"active_scroll\":\"auto\",\"active_tap\":\"auto\"},\"id\":\"a646bcea-b9a4-4ed6-addf-cf35098afe69\",\"type\":\"Toolbar\"},{\"attributes\":{\"line_color\":{\"value\":\"green\"},\"line_width\":{\"value\":2},\"x0\":{\"value\":0},\"x1\":{\"field\":\"x1\"},\"y0\":{\"field\":\"y0\"},\"y1\":{\"field\":\"y1\"}},\"id\":\"0d2e6b5a-a831-4b35-8475-5232fcc1970e\",\"type\":\"Segment\"},{\"attributes\":{},\"id\":\"031455a7-68ea-4614-822d-b6d018239582\",\"type\":\"CategoricalTicker\"},{\"attributes\":{\"fill_color\":{\"value\":\"orange\"},\"line_color\":{\"value\":\"green\"},\"line_width\":{\"value\":3},\"size\":{\"units\":\"screen\",\"value\":15},\"x\":{\"field\":\"x\"},\"y\":{\"field\":\"y\"}},\"id\":\"3205060a-1c4b-4e93-929c-097321c1f62c\",\"type\":\"Circle\"},{\"attributes\":{\"callback\":null,\"column_names\":[\"y0\",\"x1\",\"y1\"],\"data\":{\"x1\":[70.09011589,154.3671354,13.44997604,7.22065767,147.1746085,21.77346785,-771.2636539,-434.3927166,-374.9450608,-515.7056398,1040.608809,1445.769212,-145.6067709,347.0164622,-25.95016057,-48.66063418,-270.7105155,136.8744036,73.41669628,169.3185561,213.2460654,-250.1389057,-174.336851,32.26334937,81.78795756,37.47574626,99.73011693,62.85859928,-12.10380021,11.25824005,55.81321054,52.24021755,110.3417472,41.48314857,576.5211521,300.2571907,104.8750951,149.4442819,257.7485607,581.0283683,0.32981387,0.134047735,0.409743303,0.026037363,0.232772691,-0.358254948],\"y0\":[\"X1st.of.Month\",\"X15th.of.Month\",\"JewishHoliday\",\"CNY15Days\",\"CNY7Days\",\"ChineseNewYear\",\"SuperBowl\",\"Valentines\",\"Halloween\",\"NewYear'sDay\",\"MartinLutherKingDay\",\"Pres.Day\",\"Easter\",\"Memorial\",\"MotherDay\",\"FatherDay\",\"July.4th\",\"LaborDay\",\"ColumbusDay\",\"VeteransDay\",\"ThxGiving\",\"Xmas\",\"LongWKend\",\"Jan\",\"Feb\",\"Mar\",\"Apr\",\"May\",\"Jun\",\"Jul\",\"Aug\",\"Sep\",\"Oct\",\"Nov\",\"Sun\",\"Mon\",\"Tue\",\"Wed\",\"Thu\",\"Fri\",\"RewardsCardholder\",\"SpecialEventCustomer\",\"FreeAndIndependentTraveler\",\"WholeSaleCustomer\",\"GroupMemberCustomer\",\"AvgRoomRateFofIndepedentTraveler\"],\"y1\":[\"X1st.of.Month\",\"X15th.of.Month\",\"JewishHoliday\",\"CNY15Days\",\"CNY7Days\",\"ChineseNewYear\",\"SuperBowl\",\"Valentines\",\"Halloween\",\"NewYear'sDay\",\"MartinLutherKingDay\",\"Pres.Day\",\"Easter\",\"Memorial\",\"MotherDay\",\"FatherDay\",\"July.4th\",\"LaborDay\",\"ColumbusDay\",\"VeteransDay\",\"ThxGiving\",\"Xmas\",\"LongWKend\",\"Jan\",\"Feb\",\"Mar\",\"Apr\",\"May\",\"Jun\",\"Jul\",\"Aug\",\"Sep\",\"Oct\",\"Nov\",\"Sun\",\"Mon\",\"Tue\",\"Wed\",\"Thu\",\"Fri\",\"RewardsCardholder\",\"SpecialEventCustomer\",\"FreeAndIndependentTraveler\",\"WholeSaleCustomer\",\"GroupMemberCustomer\",\"AvgRoomRateFofIndepedentTraveler\"]}},\"id\":\"f9bf5fbb-d239-4d39-bd2c-bfdeb2452734\",\"type\":\"ColumnDataSource\"},{\"attributes\":{\"dimension\":1,\"plot\":{\"id\":\"136f10a8-e7dc-4bf6-9ff3-474a252bf98e\",\"subtype\":\"Figure\",\"type\":\"Plot\"},\"ticker\":{\"id\":\"031455a7-68ea-4614-822d-b6d018239582\",\"type\":\"CategoricalTicker\"}},\"id\":\"f1d8fe9d-e42c-4529-b30b-a97cce5c2195\",\"type\":\"Grid\"},{\"attributes\":{},\"id\":\"6cef6b47-2418-48bd-9a94-220dcfa77661\",\"type\":\"ToolEvents\"},{\"attributes\":{},\"id\":\"2f653915-0d01-4dad-9f6e-accf76b70f9f\",\"type\":\"CategoricalTickFormatter\"},{\"attributes\":{\"callback\":null,\"column_names\":[\"x\",\"y\"],\"data\":{\"x\":[70.09011589,154.3671354,13.44997604,7.22065767,147.1746085,21.77346785,-771.2636539,-434.3927166,-374.9450608,-515.7056398,1040.608809,1445.769212,-145.6067709,347.0164622,-25.95016057,-48.66063418,-270.7105155,136.8744036,73.41669628,169.3185561,213.2460654,-250.1389057,-174.336851,32.26334937,81.78795756,37.47574626,99.73011693,62.85859928,-12.10380021,11.25824005,55.81321054,52.24021755,110.3417472,41.48314857,576.5211521,300.2571907,104.8750951,149.4442819,257.7485607,581.0283683,0.32981387,0.134047735,0.409743303,0.026037363,0.232772691,-0.358254948],\"y\":[\"X1st.of.Month\",\"X15th.of.Month\",\"JewishHoliday\",\"CNY15Days\",\"CNY7Days\",\"ChineseNewYear\",\"SuperBowl\",\"Valentines\",\"Halloween\",\"NewYear'sDay\",\"MartinLutherKingDay\",\"Pres.Day\",\"Easter\",\"Memorial\",\"MotherDay\",\"FatherDay\",\"July.4th\",\"LaborDay\",\"ColumbusDay\",\"VeteransDay\",\"ThxGiving\",\"Xmas\",\"LongWKend\",\"Jan\",\"Feb\",\"Mar\",\"Apr\",\"May\",\"Jun\",\"Jul\",\"Aug\",\"Sep\",\"Oct\",\"Nov\",\"Sun\",\"Mon\",\"Tue\",\"Wed\",\"Thu\",\"Fri\",\"RewardsCardholder\",\"SpecialEventCustomer\",\"FreeAndIndependentTraveler\",\"WholeSaleCustomer\",\"GroupMemberCustomer\",\"AvgRoomRateFofIndepedentTraveler\"]}},\"id\":\"ea9755ee-2371-459b-b496-501ecc9ba259\",\"type\":\"ColumnDataSource\"},{\"attributes\":{\"data_source\":{\"id\":\"ea9755ee-2371-459b-b496-501ecc9ba259\",\"type\":\"ColumnDataSource\"},\"glyph\":{\"id\":\"3205060a-1c4b-4e93-929c-097321c1f62c\",\"type\":\"Circle\"},\"hover_glyph\":null,\"nonselection_glyph\":{\"id\":\"36683a4a-bfbc-4024-89bf-dd0af797aee0\",\"type\":\"Circle\"},\"selection_glyph\":null},\"id\":\"b92c7bad-10de-4c7d-b25c-7668976fc4bd\",\"type\":\"GlyphRenderer\"},{\"attributes\":{\"line_alpha\":{\"value\":0.1},\"line_color\":{\"value\":\"#1f77b4\"},\"line_width\":{\"value\":2},\"x0\":{\"value\":0},\"x1\":{\"field\":\"x1\"},\"y0\":{\"field\":\"y0\"},\"y1\":{\"field\":\"y1\"}},\"id\":\"5b0e4bc8-bb9e-47a5-9a75-7da2625e8b86\",\"type\":\"Segment\"},{\"attributes\":{\"data_source\":{\"id\":\"f9bf5fbb-d239-4d39-bd2c-bfdeb2452734\",\"type\":\"ColumnDataSource\"},\"glyph\":{\"id\":\"0d2e6b5a-a831-4b35-8475-5232fcc1970e\",\"type\":\"Segment\"},\"hover_glyph\":null,\"nonselection_glyph\":{\"id\":\"5b0e4bc8-bb9e-47a5-9a75-7da2625e8b86\",\"type\":\"Segment\"},\"selection_glyph\":null},\"id\":\"767ecc10-dd5b-4682-9bd1-ce678b9a0a69\",\"type\":\"GlyphRenderer\"},{\"attributes\":{},\"id\":\"79dfe589-1203-4c5a-8288-764d66cdee6f\",\"type\":\"BasicTicker\"},{\"attributes\":{\"children\":[{\"id\":\"136f10a8-e7dc-4bf6-9ff3-474a252bf98e\",\"subtype\":\"Figure\",\"type\":\"Plot\"}],\"sizing_mode\":\"scale_width\"},\"id\":\"10b7d6b9-53e6-4351-88c8-57cfdf935afc\",\"type\":\"Row\"},{\"attributes\":{\"formatter\":{\"id\":\"2f653915-0d01-4dad-9f6e-accf76b70f9f\",\"type\":\"CategoricalTickFormatter\"},\"plot\":{\"id\":\"136f10a8-e7dc-4bf6-9ff3-474a252bf98e\",\"subtype\":\"Figure\",\"type\":\"Plot\"},\"ticker\":{\"id\":\"031455a7-68ea-4614-822d-b6d018239582\",\"type\":\"CategoricalTicker\"}},\"id\":\"4fdc355b-0f30-4d36-90c6-32d4185c35ad\",\"type\":\"CategoricalAxis\"},{\"attributes\":{},\"id\":\"b6ece3d2-ef63-43e2-a3ca-fb05e806eeeb\",\"type\":\"BasicTickFormatter\"},{\"attributes\":{\"plot\":{\"id\":\"136f10a8-e7dc-4bf6-9ff3-474a252bf98e\",\"subtype\":\"Figure\",\"type\":\"Plot\"},\"ticker\":{\"id\":\"79dfe589-1203-4c5a-8288-764d66cdee6f\",\"type\":\"BasicTicker\"}},\"id\":\"3f531167-4a66-40c4-a920-2db768a50625\",\"type\":\"Grid\"},{\"attributes\":{\"below\":[{\"id\":\"9c10b94d-2d83-4c67-ae36-59f7015b76b5\",\"type\":\"LinearAxis\"}],\"left\":[{\"id\":\"4fdc355b-0f30-4d36-90c6-32d4185c35ad\",\"type\":\"CategoricalAxis\"}],\"renderers\":[{\"id\":\"9c10b94d-2d83-4c67-ae36-59f7015b76b5\",\"type\":\"LinearAxis\"},{\"id\":\"3f531167-4a66-40c4-a920-2db768a50625\",\"type\":\"Grid\"},{\"id\":\"4fdc355b-0f30-4d36-90c6-32d4185c35ad\",\"type\":\"CategoricalAxis\"},{\"id\":\"f1d8fe9d-e42c-4529-b30b-a97cce5c2195\",\"type\":\"Grid\"},{\"id\":\"767ecc10-dd5b-4682-9bd1-ce678b9a0a69\",\"type\":\"GlyphRenderer\"},{\"id\":\"b92c7bad-10de-4c7d-b25c-7668976fc4bd\",\"type\":\"GlyphRenderer\"}],\"sizing_mode\":\"scale_width\",\"title\":{\"id\":\"4f1b2774-d13f-4afe-93a3-4954bff22dc7\",\"type\":\"Title\"},\"tool_events\":{\"id\":\"6cef6b47-2418-48bd-9a94-220dcfa77661\",\"type\":\"ToolEvents\"},\"toolbar\":{\"id\":\"a646bcea-b9a4-4ed6-addf-cf35098afe69\",\"type\":\"Toolbar\"},\"toolbar_location\":null,\"x_range\":{\"id\":\"980503b1-e97a-4c80-904b-049f523d60b6\",\"type\":\"Range1d\"},\"y_range\":{\"id\":\"62d6a368-738e-4fd1-b955-09f9c4d5a658\",\"type\":\"FactorRange\"}},\"id\":\"136f10a8-e7dc-4bf6-9ff3-474a252bf98e\",\"subtype\":\"Figure\",\"type\":\"Plot\"},{\"attributes\":{\"plot\":null,\"text\":\"Categorical Dot Plot\"},\"id\":\"4f1b2774-d13f-4afe-93a3-4954bff22dc7\",\"type\":\"Title\"},{\"attributes\":{\"fill_alpha\":{\"value\":0.1},\"fill_color\":{\"value\":\"#1f77b4\"},\"line_alpha\":{\"value\":0.1},\"line_color\":{\"value\":\"#1f77b4\"},\"line_width\":{\"value\":3},\"size\":{\"units\":\"screen\",\"value\":15},\"x\":{\"field\":\"x\"},\"y\":{\"field\":\"y\"}},\"id\":\"36683a4a-bfbc-4024-89bf-dd0af797aee0\",\"type\":\"Circle\"},{\"attributes\":{\"callback\":null,\"end\":1500,\"start\":-800},\"id\":\"980503b1-e97a-4c80-904b-049f523d60b6\",\"type\":\"Range1d\"}],\"root_ids\":[\"10b7d6b9-53e6-4351-88c8-57cfdf935afc\"]},\"title\":\"Bokeh Application\",\"version\":\"0.12.3\"}};\n",
       "            var render_items = [{\"docid\":\"a638b379-e791-4d0e-9165-98c057def615\",\"elementid\":\"f5555fb7-68ab-47f1-bd49-5b2a4259349c\",\"modelid\":\"10b7d6b9-53e6-4351-88c8-57cfdf935afc\"}];\n",
       "            \n",
       "            Bokeh.embed.embed_items(docs_json, render_items);\n",
       "        });\n",
       "      },\n",
       "      function(Bokeh) {\n",
       "      }\n",
       "    ];\n",
       "  \n",
       "    function run_inline_js() {\n",
       "      \n",
       "      if ((window.Bokeh !== undefined) || (force === \"1\")) {\n",
       "        for (var i = 0; i < inline_js.length; i++) {\n",
       "          inline_js[i](window.Bokeh);\n",
       "        }if (force === \"1\") {\n",
       "          display_loaded();\n",
       "        }} else if (Date.now() < window._bokeh_timeout) {\n",
       "        setTimeout(run_inline_js, 100);\n",
       "      } else if (!window._bokeh_failed_load) {\n",
       "        console.log(\"Bokeh: BokehJS failed to load within specified timeout.\");\n",
       "        window._bokeh_failed_load = true;\n",
       "      } else if (!force) {\n",
       "        var cell = $(\"#f5555fb7-68ab-47f1-bd49-5b2a4259349c\").parents('.cell').data().cell;\n",
       "        cell.output_area.append_execute_result(NB_LOAD_WARNING)\n",
       "      }\n",
       "  \n",
       "    }\n",
       "  \n",
       "    if (window._bokeh_is_loading === 0) {\n",
       "      console.log(\"Bokeh: BokehJS loaded, going straight to plotting\");\n",
       "      run_inline_js();\n",
       "    } else {\n",
       "      load_libs(js_urls, function() {\n",
       "        console.log(\"Bokeh: BokehJS plotting callback run at\", now());\n",
       "        run_inline_js();\n",
       "      });\n",
       "    }\n",
       "  }(this));\n",
       "</script>"
      ]
     },
     "metadata": {},
     "output_type": "display_data"
    }
   ],
   "source": [
    "factors = [\"X1st.of.Month\",\n",
    "\"X15th.of.Month\",\n",
    "\"JewishHoliday\",\n",
    "\"CNY15Days\",\n",
    "\"CNY7Days\",\n",
    "\"ChineseNewYear\",\n",
    "\"SuperBowl\",\n",
    "\"Valentines\",\n",
    "\"Halloween\",\n",
    "\"NewYear'sDay\",\n",
    "\"MartinLutherKingDay\",\n",
    "\"Pres.Day\",\n",
    "\"Easter\",\n",
    "\"Memorial\",\n",
    "\"MotherDay\",\n",
    "\"FatherDay\",\n",
    "\"July.4th\",\n",
    "\"LaborDay\",\n",
    "\"ColumbusDay\",\n",
    "\"VeteransDay\",\n",
    "\"ThxGiving\",\n",
    "\"Xmas\",\n",
    "\"LongWKend\",\n",
    "\"Jan\",\n",
    "\"Feb\",\n",
    "\"Mar\",\n",
    "\"Apr\",\n",
    "\"May\",\n",
    "\"Jun\",\n",
    "\"Jul\",\n",
    "\"Aug\",\n",
    "\"Sep\",\n",
    "\"Oct\",\n",
    "\"Nov\",\n",
    "\"Sun\",\n",
    "\"Mon\",\n",
    "\"Tue\",\n",
    "\"Wed\",\n",
    "\"Thu\",\n",
    "\"Fri\",\n",
    "\"RewardsCardholder\",\n",
    "\"SpecialEventCustomer\",\n",
    "\"FreeAndIndependentTraveler\",\n",
    "\"WholeSaleCustomer\",\n",
    "\"GroupMemberCustomer\",\n",
    "\"AvgRoomRateFofIndepedentTraveler\"]\n",
    "\n",
    "x =  [70.09011589,\n",
    "154.3671354,\n",
    "13.44997604,\n",
    "7.22065767,\n",
    "147.1746085,\n",
    "21.77346785,\n",
    "-771.2636539,\n",
    "-434.3927166,\n",
    "-374.9450608,\n",
    "-515.7056398,\n",
    "1040.608809,\n",
    "1445.769212,\n",
    "-145.6067709,\n",
    "347.0164622,\n",
    "-25.95016057,\n",
    "-48.66063418,\n",
    "-270.7105155,\n",
    "136.8744036,\n",
    "73.41669628,\n",
    "169.3185561,\n",
    "213.2460654,\n",
    "-250.1389057,\n",
    "-174.336851,\n",
    "32.26334937,\n",
    "81.78795756,\n",
    "37.47574626,\n",
    "99.73011693,\n",
    "62.85859928,\n",
    "-12.10380021,\n",
    "11.25824005,\n",
    "55.81321054,\n",
    "52.24021755,\n",
    "110.3417472,\n",
    "41.48314857,\n",
    "576.5211521,\n",
    "300.2571907,\n",
    "104.8750951,\n",
    "149.4442819,\n",
    "257.7485607,\n",
    "581.0283683,\n",
    "0.32981387,\n",
    "0.134047735,\n",
    "0.409743303,\n",
    "0.026037363,\n",
    "0.232772691,\n",
    "-0.358254948]\n",
    "\n",
    "dot = figure(title=\"Categorical Dot Plot\", tools=\"\", toolbar_location=None,\n",
    "            y_range=factors, x_range=[-800,1500])\n",
    "\n",
    "dot.segment(0, factors, x, factors, line_width=2, line_color=\"green\", )\n",
    "dot.circle(x, factors, size=15, fill_color=\"orange\", line_color=\"green\", line_width=3, )\n",
    "\n",
    "factors = [\"foo\", \"bar\", \"baz\"]\n",
    "x = [\"foo\", \"foo\", \"foo\", \"bar\", \"bar\", \"bar\", \"baz\", \"baz\", \"baz\"]\n",
    "y = [\"foo\", \"bar\", \"baz\", \"foo\", \"bar\", \"baz\", \"foo\", \"bar\", \"baz\"]\n",
    "colors = [\n",
    "    \"#0B486B\", \"#79BD9A\", \"#CFF09E\",\n",
    "    \"#79BD9A\", \"#0B486B\", \"#79BD9A\",\n",
    "    \"#CFF09E\", \"#79BD9A\", \"#0B486B\"\n",
    "]\n",
    "\n",
    "hm = figure(title=\"Categorical Heatmap\", tools=\"hover\", toolbar_location=None,\n",
    "            x_range=factors, y_range=factors)\n",
    "hm.rect(x, y, color=colors, width=1, height=1)\n",
    "\n",
    "#output_file(\"categorical.html\", title=\"categorical.py example\")\n",
    "\n",
    "show(row(dot, sizing_mode=\"scale_width\"))  # open a browser"
   ]
  },
  {
   "cell_type": "markdown",
   "metadata": {},
   "source": [
    "# Forecasts："
   ]
  },
  {
   "cell_type": "code",
   "execution_count": null,
   "metadata": {
    "collapsed": true
   },
   "outputs": [],
   "source": [
    "import csv\n",
    "import pandas as pd\n",
    "import scipy"
   ]
  },
  {
   "cell_type": "code",
   "execution_count": 12,
   "metadata": {
    "collapsed": false,
    "scrolled": true
   },
   "outputs": [
    {
     "ename": "OSError",
     "evalue": "File b'Transform-Data/ForecastDataNew.csv' does not exist",
     "output_type": "error",
     "traceback": [
      "\u001b[0;31m---------------------------------------------------------------------------\u001b[0m",
      "\u001b[0;31mOSError\u001b[0m                                   Traceback (most recent call last)",
      "\u001b[0;32m<ipython-input-12-27d1128c87c7>\u001b[0m in \u001b[0;36m<module>\u001b[0;34m()\u001b[0m\n\u001b[0;32m----> 1\u001b[0;31m \u001b[0mdf\u001b[0m \u001b[0;34m=\u001b[0m \u001b[0mpd\u001b[0m\u001b[0;34m.\u001b[0m\u001b[0mread_csv\u001b[0m\u001b[0;34m(\u001b[0m\u001b[0;34m'Transform-Data/ForecastDataNew.csv'\u001b[0m\u001b[0;34m)\u001b[0m\u001b[0;34m\u001b[0m\u001b[0m\n\u001b[0m\u001b[1;32m      2\u001b[0m \u001b[0mdf\u001b[0m\u001b[0;34m\u001b[0m\u001b[0m\n",
      "\u001b[0;32m/Users/XinyiLu/anaconda/lib/python3.5/site-packages/pandas/io/parsers.py\u001b[0m in \u001b[0;36mparser_f\u001b[0;34m(filepath_or_buffer, sep, delimiter, header, names, index_col, usecols, squeeze, prefix, mangle_dupe_cols, dtype, engine, converters, true_values, false_values, skipinitialspace, skiprows, skipfooter, nrows, na_values, keep_default_na, na_filter, verbose, skip_blank_lines, parse_dates, infer_datetime_format, keep_date_col, date_parser, dayfirst, iterator, chunksize, compression, thousands, decimal, lineterminator, quotechar, quoting, escapechar, comment, encoding, dialect, tupleize_cols, error_bad_lines, warn_bad_lines, skip_footer, doublequote, delim_whitespace, as_recarray, compact_ints, use_unsigned, low_memory, buffer_lines, memory_map, float_precision)\u001b[0m\n\u001b[1;32m    560\u001b[0m                     skip_blank_lines=skip_blank_lines)\n\u001b[1;32m    561\u001b[0m \u001b[0;34m\u001b[0m\u001b[0m\n\u001b[0;32m--> 562\u001b[0;31m         \u001b[0;32mreturn\u001b[0m \u001b[0m_read\u001b[0m\u001b[0;34m(\u001b[0m\u001b[0mfilepath_or_buffer\u001b[0m\u001b[0;34m,\u001b[0m \u001b[0mkwds\u001b[0m\u001b[0;34m)\u001b[0m\u001b[0;34m\u001b[0m\u001b[0m\n\u001b[0m\u001b[1;32m    563\u001b[0m \u001b[0;34m\u001b[0m\u001b[0m\n\u001b[1;32m    564\u001b[0m     \u001b[0mparser_f\u001b[0m\u001b[0;34m.\u001b[0m\u001b[0m__name__\u001b[0m \u001b[0;34m=\u001b[0m \u001b[0mname\u001b[0m\u001b[0;34m\u001b[0m\u001b[0m\n",
      "\u001b[0;32m/Users/XinyiLu/anaconda/lib/python3.5/site-packages/pandas/io/parsers.py\u001b[0m in \u001b[0;36m_read\u001b[0;34m(filepath_or_buffer, kwds)\u001b[0m\n\u001b[1;32m    313\u001b[0m \u001b[0;34m\u001b[0m\u001b[0m\n\u001b[1;32m    314\u001b[0m     \u001b[0;31m# Create the parser.\u001b[0m\u001b[0;34m\u001b[0m\u001b[0;34m\u001b[0m\u001b[0m\n\u001b[0;32m--> 315\u001b[0;31m     \u001b[0mparser\u001b[0m \u001b[0;34m=\u001b[0m \u001b[0mTextFileReader\u001b[0m\u001b[0;34m(\u001b[0m\u001b[0mfilepath_or_buffer\u001b[0m\u001b[0;34m,\u001b[0m \u001b[0;34m**\u001b[0m\u001b[0mkwds\u001b[0m\u001b[0;34m)\u001b[0m\u001b[0;34m\u001b[0m\u001b[0m\n\u001b[0m\u001b[1;32m    316\u001b[0m \u001b[0;34m\u001b[0m\u001b[0m\n\u001b[1;32m    317\u001b[0m     \u001b[0;32mif\u001b[0m \u001b[0;34m(\u001b[0m\u001b[0mnrows\u001b[0m \u001b[0;32mis\u001b[0m \u001b[0;32mnot\u001b[0m \u001b[0;32mNone\u001b[0m\u001b[0;34m)\u001b[0m \u001b[0;32mand\u001b[0m \u001b[0;34m(\u001b[0m\u001b[0mchunksize\u001b[0m \u001b[0;32mis\u001b[0m \u001b[0;32mnot\u001b[0m \u001b[0;32mNone\u001b[0m\u001b[0;34m)\u001b[0m\u001b[0;34m:\u001b[0m\u001b[0;34m\u001b[0m\u001b[0m\n",
      "\u001b[0;32m/Users/XinyiLu/anaconda/lib/python3.5/site-packages/pandas/io/parsers.py\u001b[0m in \u001b[0;36m__init__\u001b[0;34m(self, f, engine, **kwds)\u001b[0m\n\u001b[1;32m    643\u001b[0m             \u001b[0mself\u001b[0m\u001b[0;34m.\u001b[0m\u001b[0moptions\u001b[0m\u001b[0;34m[\u001b[0m\u001b[0;34m'has_index_names'\u001b[0m\u001b[0;34m]\u001b[0m \u001b[0;34m=\u001b[0m \u001b[0mkwds\u001b[0m\u001b[0;34m[\u001b[0m\u001b[0;34m'has_index_names'\u001b[0m\u001b[0;34m]\u001b[0m\u001b[0;34m\u001b[0m\u001b[0m\n\u001b[1;32m    644\u001b[0m \u001b[0;34m\u001b[0m\u001b[0m\n\u001b[0;32m--> 645\u001b[0;31m         \u001b[0mself\u001b[0m\u001b[0;34m.\u001b[0m\u001b[0m_make_engine\u001b[0m\u001b[0;34m(\u001b[0m\u001b[0mself\u001b[0m\u001b[0;34m.\u001b[0m\u001b[0mengine\u001b[0m\u001b[0;34m)\u001b[0m\u001b[0;34m\u001b[0m\u001b[0m\n\u001b[0m\u001b[1;32m    646\u001b[0m \u001b[0;34m\u001b[0m\u001b[0m\n\u001b[1;32m    647\u001b[0m     \u001b[0;32mdef\u001b[0m \u001b[0mclose\u001b[0m\u001b[0;34m(\u001b[0m\u001b[0mself\u001b[0m\u001b[0;34m)\u001b[0m\u001b[0;34m:\u001b[0m\u001b[0;34m\u001b[0m\u001b[0m\n",
      "\u001b[0;32m/Users/XinyiLu/anaconda/lib/python3.5/site-packages/pandas/io/parsers.py\u001b[0m in \u001b[0;36m_make_engine\u001b[0;34m(self, engine)\u001b[0m\n\u001b[1;32m    797\u001b[0m     \u001b[0;32mdef\u001b[0m \u001b[0m_make_engine\u001b[0m\u001b[0;34m(\u001b[0m\u001b[0mself\u001b[0m\u001b[0;34m,\u001b[0m \u001b[0mengine\u001b[0m\u001b[0;34m=\u001b[0m\u001b[0;34m'c'\u001b[0m\u001b[0;34m)\u001b[0m\u001b[0;34m:\u001b[0m\u001b[0;34m\u001b[0m\u001b[0m\n\u001b[1;32m    798\u001b[0m         \u001b[0;32mif\u001b[0m \u001b[0mengine\u001b[0m \u001b[0;34m==\u001b[0m \u001b[0;34m'c'\u001b[0m\u001b[0;34m:\u001b[0m\u001b[0;34m\u001b[0m\u001b[0m\n\u001b[0;32m--> 799\u001b[0;31m             \u001b[0mself\u001b[0m\u001b[0;34m.\u001b[0m\u001b[0m_engine\u001b[0m \u001b[0;34m=\u001b[0m \u001b[0mCParserWrapper\u001b[0m\u001b[0;34m(\u001b[0m\u001b[0mself\u001b[0m\u001b[0;34m.\u001b[0m\u001b[0mf\u001b[0m\u001b[0;34m,\u001b[0m \u001b[0;34m**\u001b[0m\u001b[0mself\u001b[0m\u001b[0;34m.\u001b[0m\u001b[0moptions\u001b[0m\u001b[0;34m)\u001b[0m\u001b[0;34m\u001b[0m\u001b[0m\n\u001b[0m\u001b[1;32m    800\u001b[0m         \u001b[0;32melse\u001b[0m\u001b[0;34m:\u001b[0m\u001b[0;34m\u001b[0m\u001b[0m\n\u001b[1;32m    801\u001b[0m             \u001b[0;32mif\u001b[0m \u001b[0mengine\u001b[0m \u001b[0;34m==\u001b[0m \u001b[0;34m'python'\u001b[0m\u001b[0;34m:\u001b[0m\u001b[0;34m\u001b[0m\u001b[0m\n",
      "\u001b[0;32m/Users/XinyiLu/anaconda/lib/python3.5/site-packages/pandas/io/parsers.py\u001b[0m in \u001b[0;36m__init__\u001b[0;34m(self, src, **kwds)\u001b[0m\n\u001b[1;32m   1211\u001b[0m         \u001b[0mkwds\u001b[0m\u001b[0;34m[\u001b[0m\u001b[0;34m'allow_leading_cols'\u001b[0m\u001b[0;34m]\u001b[0m \u001b[0;34m=\u001b[0m \u001b[0mself\u001b[0m\u001b[0;34m.\u001b[0m\u001b[0mindex_col\u001b[0m \u001b[0;32mis\u001b[0m \u001b[0;32mnot\u001b[0m \u001b[0;32mFalse\u001b[0m\u001b[0;34m\u001b[0m\u001b[0m\n\u001b[1;32m   1212\u001b[0m \u001b[0;34m\u001b[0m\u001b[0m\n\u001b[0;32m-> 1213\u001b[0;31m         \u001b[0mself\u001b[0m\u001b[0;34m.\u001b[0m\u001b[0m_reader\u001b[0m \u001b[0;34m=\u001b[0m \u001b[0m_parser\u001b[0m\u001b[0;34m.\u001b[0m\u001b[0mTextReader\u001b[0m\u001b[0;34m(\u001b[0m\u001b[0msrc\u001b[0m\u001b[0;34m,\u001b[0m \u001b[0;34m**\u001b[0m\u001b[0mkwds\u001b[0m\u001b[0;34m)\u001b[0m\u001b[0;34m\u001b[0m\u001b[0m\n\u001b[0m\u001b[1;32m   1214\u001b[0m \u001b[0;34m\u001b[0m\u001b[0m\n\u001b[1;32m   1215\u001b[0m         \u001b[0;31m# XXX\u001b[0m\u001b[0;34m\u001b[0m\u001b[0;34m\u001b[0m\u001b[0m\n",
      "\u001b[0;32mpandas/parser.pyx\u001b[0m in \u001b[0;36mpandas.parser.TextReader.__cinit__ (pandas/parser.c:3427)\u001b[0;34m()\u001b[0m\n",
      "\u001b[0;32mpandas/parser.pyx\u001b[0m in \u001b[0;36mpandas.parser.TextReader._setup_parser_source (pandas/parser.c:6861)\u001b[0;34m()\u001b[0m\n",
      "\u001b[0;31mOSError\u001b[0m: File b'Transform-Data/ForecastDataNew.csv' does not exist"
     ]
    }
   ],
   "source": [
    "df = pd.read_csv('Transform-Data/ForecastDataNew.csv')\n",
    "df"
   ]
  },
  {
   "cell_type": "markdown",
   "metadata": {},
   "source": [
    "# Prediction from Moving Average Method and the Actual values："
   ]
  },
  {
   "cell_type": "markdown",
   "metadata": {
    "collapsed": false
   },
   "source": [
    "![](https://github.com/bosea3000/Projects/raw/master/Caesars-Staffing-Problem/Images/Forecast-MovingAvg.png)"
   ]
  },
  {
   "cell_type": "markdown",
   "metadata": {},
   "source": [
    "# Prediction from Regression Method and the Actual values："
   ]
  },
  {
   "cell_type": "markdown",
   "metadata": {
    "collapsed": false
   },
   "source": [
    "![](https://github.com/bosea3000/Projects/raw/master/Caesars-Staffing-Problem/Images/Forecast-Causal.png)"
   ]
  },
  {
   "cell_type": "code",
   "execution_count": 11,
   "metadata": {
    "collapsed": false
   },
   "outputs": [
    {
     "data": {
      "text/plain": [
       "<matplotlib.axes._subplots.AxesSubplot at 0x11a7f7898>"
      ]
     },
     "execution_count": 11,
     "metadata": {},
     "output_type": "execute_result"
    }
   ],
   "source": [
    "df.Date = pd.to_datetime(df['Date'], format='%m/%d/%y %H:%M')\n",
    "df.set_index(['Date'],inplace=True)\n",
    "df.plot()"
   ]
  },
  {
   "cell_type": "markdown",
   "metadata": {},
   "source": [
    "From the graph we can see that the regression model fits better than the moving average model."
   ]
  },
  {
   "cell_type": "markdown",
   "metadata": {},
   "source": [
    "Smaller MAPE for Regression and less Maximum error compared to Moving Average ."
   ]
  },
  {
   "cell_type": "markdown",
   "metadata": {
    "collapsed": false
   },
   "source": [
    "![](https://github.com/bosea3000/Projects/raw/master/Caesars-Staffing-Problem/Images/MAPE.png)"
   ]
  }
 ],
 "metadata": {
  "anaconda-cloud": {},
  "kernelspec": {
   "display_name": "Python [Root]",
   "language": "python",
   "name": "Python [Root]"
  },
  "language_info": {
   "codemirror_mode": {
    "name": "ipython",
    "version": 3
   },
   "file_extension": ".py",
   "mimetype": "text/x-python",
   "name": "python",
   "nbconvert_exporter": "python",
   "pygments_lexer": "ipython3",
   "version": "3.5.2"
  }
 },
 "nbformat": 4,
 "nbformat_minor": 0
}
